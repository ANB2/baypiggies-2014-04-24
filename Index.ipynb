{
 "metadata": {
  "name": "",
  "signature": "sha256:09fe2a1a759b0c4059edc0d2cd6d47c6f335e5394ad37060d6589a45905533c3"
 },
 "nbformat": 3,
 "nbformat_minor": 0,
 "worksheets": [
  {
   "cells": [
    {
     "cell_type": "heading",
     "level": 1,
     "metadata": {},
     "source": [
      "Interactive Parallel Computing with IPython.parallel"
     ]
    },
    {
     "cell_type": "markdown",
     "metadata": {},
     "source": [
      "Min Ragan-Kelley ([@minrk](https://github.com/minrk)), IPython core dev, UC Berkeley"
     ]
    },
    {
     "cell_type": "markdown",
     "metadata": {},
     "source": [
      "- We might start with [a quick tour of IPython](Quick%20tour%20of%20IPython.ipynb).\n",
      "- on to [An overview of IPython.parallel](Overview%20of%20IPython.parallel.ipynb)\n",
      "- into "
     ]
    },
    {
     "cell_type": "markdown",
     "metadata": {},
     "source": []
    }
   ],
   "metadata": {}
  }
 ]
}