{
 "metadata": {
  "name": "",
  "signature": "sha256:bc9ea2e212d96c2349895def7c8bea5de489b8f2e3464282e502c1a58426bfd5"
 },
 "nbformat": 3,
 "nbformat_minor": 0,
 "worksheets": [
  {
   "cells": [
    {
     "cell_type": "heading",
     "level": 1,
     "metadata": {},
     "source": [
      "Interactive Parallel Computing with IPython.parallel"
     ]
    },
    {
     "cell_type": "markdown",
     "metadata": {},
     "source": [
      "Min Ragan-Kelley ([@minrk](https://github.com/minrk)), IPython core dev, UC Berkeley\n",
      "\n",
      "https://github.com/minrk/baypiggies-2014-04-24"
     ]
    },
    {
     "cell_type": "markdown",
     "metadata": {},
     "source": [
      "- We might start with [a quick tour of IPython](Quick%20tour%20of%20IPython.ipynb).\n",
      "- on to [An overview of IPython.parallel](Overview%20of%20IPython.parallel.ipynb)\n",
      "- The [basic interface](Basic%20Interface.ipynb)\n",
      "- [Multiplexing](Multiplexing.ipynb)\n",
      "- [Load Balancing](Load%20Balancing.ipynb)\n",
      "- Parallel [magics](Parallel%20Magics.ipynb)\n",
      "- Both [at the same time](Using%20DirectView%20and%20LoadBalancedView%20Together.ipynb)\n",
      "- [Parallel facial detection](Parallel%20face%20detection.ipynb) with OpenCV"
     ]
    }
   ],
   "metadata": {}
  }
 ]
}