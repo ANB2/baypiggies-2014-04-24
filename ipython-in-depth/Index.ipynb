{
 "metadata": {
  "name": "",
  "signature": "sha256:37b6b25d0551b4eae64f4ba5827b7c15db23a4801f6cf9bcd13fea70267bc94a"
 },
 "nbformat": 3,
 "nbformat_minor": 0,
 "worksheets": [
  {
   "cells": [
    {
     "cell_type": "markdown",
     "metadata": {},
     "source": [
      "# IPython: a PyCon 2014 tutorial\n",
      "\n",
      "Class outline:\n",
      "\n",
      "* A quick [installation check](http://ipython.org/install.html)\n",
      "* An overview of the IPython project from [the official website](http://ipython.org).\n",
      "* Super basic intro to the notebook: typing code.\n",
      "* [Notebook Basics](Notebook Basics.ipynb)\n",
      "* [IPython - beyond plain python](IPython - beyond plain Python.ipynb)\n",
      "* [Markdown Cells](Markdown Cells.ipynb)\n",
      "* [Rich Display System](Rich Display System.ipynb)\n",
      "* [Introduction to Interactive Javascript Widgets](Interactive Widgets.ipynb)\n",
      "* [Customizing IPython - a condensed version](Customizing IPython - Condensed.ipynb)\n",
      "* [Running a Secure Public Notebook Server](Running a Secure Public Notebook.ipynb)"
     ]
    },
    {
     "cell_type": "markdown",
     "metadata": {},
     "source": [
      "There are a lot more detailed notebooks in this same directory that cover other topics, but we can not cover all in a 3-hour tutorial. We encourage you to explore them and practice on your own.\n",
      "\n",
      "For even more detail, you can visit our [example collection](http://nbviewer.ipython.org/github/ipython/ipython/blob/master/examples/Index.ipynb) from our site, also included in the IPython source code repository."
     ]
    }
   ],
   "metadata": {}
  }
 ]
}