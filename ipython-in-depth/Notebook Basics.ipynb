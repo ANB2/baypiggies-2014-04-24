{
 "metadata": {
  "name": "",
  "signature": "sha256:740ba415413f5b6ab5c27f06c2b0a44b9f13121e77fcd2a6b0eaca99d2436a2a"
 },
 "nbformat": 3,
 "nbformat_minor": 0,
 "worksheets": [
  {
   "cells": [
    {
     "cell_type": "heading",
     "level": 1,
     "metadata": {},
     "source": [
      "IPython Notebook Basics"
     ]
    },
    {
     "cell_type": "heading",
     "level": 2,
     "metadata": {},
     "source": [
      "Project directory"
     ]
    },
    {
     "cell_type": "markdown",
     "metadata": {},
     "source": [
      "* IPython Notebooks are just files (`.ipynb`) on your file system.\n",
      "\n",
      "* The Notebook server shows all notebooks in the directory it is started, and can navigate the filesystem below that directory *but not above*. If you cd to a Notebook directory and type:\n",
      "\n",
      "        ipython notebook\n",
      "\n",
      "you will see the Notebooks in that directory in the dashboard, and you can navigate from there to your subdirectories.\n",
      "\n",
      "**Note:** that the URLs the notebook server uses are the actual filesystem paths to your notebook files, so if you regularly start the notebook from the same location, you can use your browser's bookmarks to find commonly used directories and notebooks."
     ]
    },
    {
     "cell_type": "heading",
     "level": 2,
     "metadata": {},
     "source": [
      "Overview of the UI"
     ]
    },
    {
     "cell_type": "markdown",
     "metadata": {},
     "source": [
      "* Dashboard\n",
      "* Notebook area and cells\n",
      "* Menu\n",
      "* Toolbar"
     ]
    },
    {
     "cell_type": "heading",
     "level": 2,
     "metadata": {},
     "source": [
      "The Modal User Interface"
     ]
    },
    {
     "cell_type": "markdown",
     "metadata": {},
     "source": [
      "<div class=\"alert\" style=\"margin: 10px\">\n",
      "As of IPython 2.0, the user interface has changed significantly. Because of this we highly recommend existing users to review this information after upgrading to IPython 2.0. All new users of IPython should review this information as well.\n",
      "</div>"
     ]
    },
    {
     "cell_type": "markdown",
     "metadata": {},
     "source": [
      "Starting with IPython 2.0, the IPython Notebook has a modal user interface. This means that the keyboard does different things depending on which mode the Notebook is in. There are two modes: edit mode and command mode."
     ]
    },
    {
     "cell_type": "heading",
     "level": 3,
     "metadata": {},
     "source": [
      "Edit mode"
     ]
    },
    {
     "cell_type": "markdown",
     "metadata": {},
     "source": [
      "Edit mode is indicated by a green cell border and a prompt showing in the editor area:\n",
      "\n",
      "<img src=\"figs/edit_mode.png\">\n",
      "\n",
      "When a cell is in edit mode, you can type into the cell, like a normal text editor.\n",
      "\n",
      "<div class=\"alert alert-success\" style=\"margin: 10px\">\n",
      "Enter edit mode by pressing `enter` or using the mouse to click on a cell's editor area.\n",
      "</div>"
     ]
    },
    {
     "cell_type": "heading",
     "level": 3,
     "metadata": {},
     "source": [
      "Command mode"
     ]
    },
    {
     "cell_type": "markdown",
     "metadata": {},
     "source": [
      "Command mode is indicated by a grey cell border:\n",
      "\n",
      "<img src=\"figs/command_mode.png\">\n",
      "\n",
      "When you are in command mode, you are able to edit the notebook as a whole, but not type into individual cells. Most importantly, in command mode, the keyboard is mapped to a set of shortcuts that let you perform notebook and cell actions efficiently. For example, if you are in command mode and you press `c`, you will copy the current cell - no modifier is needed.\n",
      "\n",
      "<div class=\"alert alert-error\" style=\"margin: 10px\">\n",
      "Don't try to type into a cell in command mode; unexpected things will happen!\n",
      "</div>\n",
      "\n",
      "<div class=\"alert alert-success\" style=\"margin: 10px\">\n",
      "Enter command mode by pressing `esc`, `Ctrl-m`, or using the mouse to click *outside* a cell's editor area.\n",
      "<p>\n",
      "In command mode, `h` displays all shortcuts (also available from the help menu).\n",
      "</div>"
     ]
    },
    {
     "cell_type": "heading",
     "level": 3,
     "metadata": {},
     "source": [
      "Exercise"
     ]
    },
    {
     "cell_type": "markdown",
     "metadata": {},
     "source": [
      "Create a new Notebook and create a couple of cells that contain simple python expressions. \n",
      "\n",
      "Practice shifting between command and edit mode a few times, going back to edit existing cells.\n",
      "\n",
      "Try using `time.sleep(2)` and watch the kernel activity indicator."
     ]
    },
    {
     "cell_type": "heading",
     "level": 2,
     "metadata": {},
     "source": [
      "Cell types"
     ]
    },
    {
     "cell_type": "markdown",
     "metadata": {},
     "source": [
      "* Code\n",
      "* Markdown\n",
      "* Raw text\n",
      "* Heading"
     ]
    },
    {
     "cell_type": "heading",
     "level": 3,
     "metadata": {},
     "source": [
      "Exercise"
     ]
    },
    {
     "cell_type": "markdown",
     "metadata": {},
     "source": [
      "Go back to that last Notebook and  add at least one of each cell type.  Practice the following cell operations:\n",
      "\n",
      "* Moving up/down\n",
      "* Cut/Copy/Paste\n",
      "* Merge/Split"
     ]
    },
    {
     "cell_type": "heading",
     "level": 2,
     "metadata": {},
     "source": [
      "Main Keyboard shortcuts"
     ]
    },
    {
     "cell_type": "markdown",
     "metadata": {},
     "source": [
      "* `Shift-Enter` to run a cell\n",
      "* `Alt-Enter` to run a cell and insert a new one after.\n",
      "* `Ctrl-Enter` to run a cell in place\n",
      "\n",
      "Mode switching:\n",
      "\n",
      "* `esc` or `Ctrl-m` to switch from edit to command mode.\n",
      "* `Enter` to enter from command mode into edit mode in the current cell."
     ]
    },
    {
     "cell_type": "heading",
     "level": 3,
     "metadata": {},
     "source": [
      "Exercise"
     ]
    },
    {
     "cell_type": "markdown",
     "metadata": {},
     "source": [
      "Go back to that last Notebook and repeat some of those cell operations using keyboard shortcuts:\n",
      "\n",
      "* Inserting cells above/below\n",
      "* Delete cell\n",
      "* Move cell up/down\n",
      "* Cut/copy/paste cell\n",
      "* Changing cell types"
     ]
    },
    {
     "cell_type": "heading",
     "level": 2,
     "metadata": {},
     "source": [
      "Notebook files"
     ]
    },
    {
     "cell_type": "markdown",
     "metadata": {},
     "source": [
      "Notebook files:\n",
      "\n",
      "* Are just that - files (`.ipynb`) on your file system\n",
      "* Contain JSON data"
     ]
    },
    {
     "cell_type": "code",
     "collapsed": false,
     "input": [
      "from IPython.nbformat import current\n",
      "with open('Notebook Basics.ipynb') as f:\n",
      "    nb = current.read(f, 'json')"
     ],
     "language": "python",
     "metadata": {},
     "outputs": [],
     "prompt_number": 1
    },
    {
     "cell_type": "code",
     "collapsed": false,
     "input": [
      "nb.worksheets[0].cells[0:5]"
     ],
     "language": "python",
     "metadata": {},
     "outputs": [
      {
       "metadata": {},
       "output_type": "pyout",
       "prompt_number": 2,
       "text": [
        "[{u'cell_type': u'heading',\n",
        "  u'level': 1,\n",
        "  u'metadata': {},\n",
        "  u'source': u'IPython Notebook Basics'},\n",
        " {u'cell_type': u'heading',\n",
        "  u'level': 2,\n",
        "  u'metadata': {},\n",
        "  u'source': u'Project directory'},\n",
        " {u'cell_type': u'markdown',\n",
        "  u'metadata': {},\n",
        "  u'source': u\"* IPython Notebooks are just files (`.ipynb`) on your file system.\\n\\n* The Notebook server shows all notebooks in the directory it is started, and can navigate the filesystem below that directory *but not above*. If you cd to a Notebook directory and type:\\n\\n        ipython notebook\\n\\nyou will see the Notebooks in that directory in the dashboard, and you can navigate from there to your subdirectories.\\n\\n**Note:** that the URLs the notebook server uses are the actual filesystem paths to your notebook files, so if you regularly start the notebook from the same location, you can use your browser's bookmarks to find commonly used directories and notebooks.\"},\n",
        " {u'cell_type': u'heading',\n",
        "  u'level': 2,\n",
        "  u'metadata': {},\n",
        "  u'source': u'Overview of the UI'},\n",
        " {u'cell_type': u'markdown',\n",
        "  u'metadata': {},\n",
        "  u'source': u'* Dashboard\\n* Notebook area and cells\\n* Menu\\n* Toolbar'}]"
       ]
      }
     ],
     "prompt_number": 2
    },
    {
     "cell_type": "markdown",
     "metadata": {},
     "source": [
      "* Embed code, Markdown text, LaTeX equations, images\n",
      "* Are version control friendly: post your Notebooks on GitHub\n",
      "* Can be viewed online by anyone at http://nbviewer.ipython.org"
     ]
    },
    {
     "cell_type": "markdown",
     "metadata": {},
     "source": [
      "IPython Notebooks can also be exported to `.py` files (see \"File:Download As\" menu item). You can tell the Notebook server to always save these `.py` files alongside the `.ipynb` files by starting the Notebook as:\n",
      "\n",
      "    ipython notebook --script"
     ]
    }
   ],
   "metadata": {}
  }
 ]
}