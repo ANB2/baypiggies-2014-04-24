{
 "metadata": {
  "name": "",
  "signature": "sha256:ddea117c51fe7858ae0fc96ccba0a06405dbc24749085620017a54d541158d6d"
 },
 "nbformat": 3,
 "nbformat_minor": 0,
 "worksheets": [
  {
   "cells": [
    {
     "cell_type": "heading",
     "level": 1,
     "metadata": {
      "slideshow": {
       "slide_type": "slide"
      }
     },
     "source": [
      "What is IPython?"
     ]
    },
    {
     "cell_type": "heading",
     "level": 1,
     "metadata": {
      "slideshow": {
       "slide_type": "slide"
      }
     },
     "source": [
      "Level 0: Interactive Python"
     ]
    },
    {
     "cell_type": "code",
     "collapsed": false,
     "input": [
      "def foo():\n",
      "    \"\"\"docstring\"\"\"\n",
      "    return 'hi'\n",
      "foo()"
     ],
     "language": "python",
     "metadata": {},
     "outputs": []
    },
    {
     "cell_type": "code",
     "collapsed": false,
     "input": [
      "def bar():\n",
      "    print 'hi'"
     ],
     "language": "python",
     "metadata": {},
     "outputs": []
    },
    {
     "cell_type": "code",
     "collapsed": false,
     "input": [
      "for i in range(10):\n",
      "    time.sleep(0.25)\n",
      "    print i,\n"
     ],
     "language": "python",
     "metadata": {},
     "outputs": []
    },
    {
     "cell_type": "code",
     "collapsed": false,
     "input": [
      "import numpy as np"
     ],
     "language": "python",
     "metadata": {},
     "outputs": []
    },
    {
     "cell_type": "code",
     "collapsed": false,
     "input": [
      "np.nd"
     ],
     "language": "python",
     "metadata": {},
     "outputs": []
    },
    {
     "cell_type": "code",
     "collapsed": false,
     "input": [
      "import ctypes\n",
      "libc = ctypes.CDLL('libc.dylib')\n",
      "libc.time(-1)"
     ],
     "language": "python",
     "metadata": {},
     "outputs": []
    },
    {
     "cell_type": "code",
     "collapsed": false,
     "input": [
      "print \"I'm okay!\""
     ],
     "language": "python",
     "metadata": {},
     "outputs": []
    },
    {
     "cell_type": "heading",
     "level": 1,
     "metadata": {
      "slideshow": {
       "slide_type": "slide"
      }
     },
     "source": [
      "Level 1: A bit more than Python"
     ]
    },
    {
     "cell_type": "code",
     "collapsed": false,
     "input": [
      "import numpy as np\n",
      "np.linspace?"
     ],
     "language": "python",
     "metadata": {},
     "outputs": []
    },
    {
     "cell_type": "heading",
     "level": 2,
     "metadata": {
      "slideshow": {
       "slide_type": "slide"
      }
     },
     "source": [
      "Shell interaction"
     ]
    },
    {
     "cell_type": "code",
     "collapsed": false,
     "input": [
      "!date"
     ],
     "language": "python",
     "metadata": {},
     "outputs": []
    },
    {
     "cell_type": "code",
     "collapsed": false,
     "input": [
      "ls"
     ],
     "language": "python",
     "metadata": {},
     "outputs": []
    },
    {
     "cell_type": "code",
     "collapsed": false,
     "input": [
      "files = !ls"
     ],
     "language": "python",
     "metadata": {},
     "outputs": []
    },
    {
     "cell_type": "code",
     "collapsed": false,
     "input": [
      "for f in files:\n",
      "    print repr(f)"
     ],
     "language": "python",
     "metadata": {},
     "outputs": []
    },
    {
     "cell_type": "heading",
     "level": 2,
     "metadata": {
      "slideshow": {
       "slide_type": "slide"
      }
     },
     "source": [
      "Extending Python with `%magics`"
     ]
    },
    {
     "cell_type": "code",
     "collapsed": false,
     "input": [
      "biglist = range(1000000)\n",
      "bigset = set(biglist)\n",
      "\n",
      "%timeit biglist[-1] in biglist\n",
      "%timeit biglist[-1] in bigset"
     ],
     "language": "python",
     "metadata": {},
     "outputs": []
    },
    {
     "cell_type": "code",
     "collapsed": false,
     "input": [
      "def inner(x):\n",
      "    return 1/x\n",
      "\n",
      "def outer(y):\n",
      "    return inner(1-y)\n",
      "\n",
      "z = 2\n",
      "outer(-z + 3)"
     ],
     "language": "python",
     "metadata": {},
     "outputs": []
    },
    {
     "cell_type": "code",
     "collapsed": false,
     "input": [
      "%debug"
     ],
     "language": "python",
     "metadata": {},
     "outputs": []
    },
    {
     "cell_type": "code",
     "collapsed": false,
     "input": [
      "%lsmagic"
     ],
     "language": "python",
     "metadata": {},
     "outputs": []
    },
    {
     "cell_type": "heading",
     "level": 1,
     "metadata": {
      "slideshow": {
       "slide_type": "slide"
      }
     },
     "source": [
      "Level 3: A bit more than the Terminal"
     ]
    },
    {
     "cell_type": "heading",
     "level": 2,
     "metadata": {
      "slideshow": {
       "slide_type": "slide"
      }
     },
     "source": [
      "Rich Display"
     ]
    },
    {
     "cell_type": "code",
     "collapsed": false,
     "input": [
      "%matplotlib inline\n",
      "import numpy as np\n",
      "import matplotlib.pyplot as plt\n",
      "from scipy.special import jn"
     ],
     "language": "python",
     "metadata": {},
     "outputs": []
    },
    {
     "cell_type": "code",
     "collapsed": false,
     "input": [
      "x = np.linspace(0,10)\n",
      "for n in range(5):\n",
      "    plt.plot(x, jn(n,x))"
     ],
     "language": "python",
     "metadata": {},
     "outputs": []
    },
    {
     "cell_type": "markdown",
     "metadata": {},
     "source": [
      "\n",
      "Math via MathJax:\n",
      "\n",
      "\\begin{eqnarray}\n",
      "\\nabla \\times \\vec{\\mathbf{B}} &\n",
      "    - \\frac{1}{c} \\frac{\\partial\\vec{\\mathbf{E}}}{\\partial t} \n",
      "    & = & \\frac{4 \\pi}{c} \\vec{\\mathbf{j}} \\\\\n",
      "\\nabla \\cdot \\vec{\\mathbf{E}} && = & 4 \\pi \\rho \\\\\n",
      "\\nabla \\times \\vec{\\mathbf{E}} &\n",
      "    + \\frac{1}{c} \\frac{\\partial\\vec{\\mathbf{B}}}{\\partial t}\n",
      "    & = & \\vec{\\mathbf{0}} \\\\\n",
      "\\nabla \\cdot \\vec{\\mathbf{B}} && = & 0 \n",
      "\\end{eqnarray}\n"
     ]
    },
    {
     "cell_type": "code",
     "collapsed": false,
     "input": [
      "import sympy\n",
      "sympy.init_printing()\n",
      "x = sympy.symbols('x')\n",
      "expr = x**10-1\n",
      "expr"
     ],
     "language": "python",
     "metadata": {},
     "outputs": []
    },
    {
     "cell_type": "code",
     "collapsed": false,
     "input": [
      "sympy.factor(expr)"
     ],
     "language": "python",
     "metadata": {},
     "outputs": []
    },
    {
     "cell_type": "code",
     "collapsed": false,
     "input": [
      "import random\n",
      "import vincent\n",
      "vincent.core.initialize_notebook()\n",
      "\n",
      "data = [random.randint(10, 100) for x in range(10)]\n",
      "bar = vincent.Bar(data, width=600)\n",
      "bar.axis_titles(x='Index', y='Value')\n",
      "bar.display()"
     ],
     "language": "python",
     "metadata": {},
     "outputs": []
    },
    {
     "cell_type": "code",
     "collapsed": false,
     "input": [
      "from IPython.display import Image, HTML\n",
      "Image(\"figs/darts.png\")"
     ],
     "language": "python",
     "metadata": {},
     "outputs": []
    },
    {
     "cell_type": "code",
     "collapsed": false,
     "input": [
      "HTML(\"<b>Bold!</b>\")"
     ],
     "language": "python",
     "metadata": {},
     "outputs": []
    },
    {
     "cell_type": "heading",
     "level": 2,
     "metadata": {},
     "source": [
      "Bringing it all together"
     ]
    },
    {
     "cell_type": "code",
     "collapsed": false,
     "input": [
      "%load_ext rmagic"
     ],
     "language": "python",
     "metadata": {},
     "outputs": []
    },
    {
     "cell_type": "code",
     "collapsed": false,
     "input": [
      "X = [1,2,3,4,5]\n",
      "Y = [4,2,5,7,3]\n",
      "plt.scatter(X,Y)"
     ],
     "language": "python",
     "metadata": {},
     "outputs": []
    },
    {
     "cell_type": "code",
     "collapsed": false,
     "input": [
      "%%R -i X,Y\n",
      "XYlm = lm(X~Y)\n",
      "XYcoef = coef(XYlm)\n",
      "print(summary(XYlm))\n",
      "par(mfrow=c(2,2))\n",
      "plot(XYlm)"
     ],
     "language": "python",
     "metadata": {},
     "outputs": []
    },
    {
     "cell_type": "heading",
     "level": 2,
     "metadata": {},
     "source": [
      "In the Notebook: not just code"
     ]
    },
    {
     "cell_type": "markdown",
     "metadata": {},
     "source": [
      "We also have\n",
      "\n",
      "- *markdown* and\n",
      "- $\\LaTeX$\n",
      "\n",
      "```javascript\n",
      "var foo = $(\".class\");\n",
      "```"
     ]
    },
    {
     "cell_type": "heading",
     "level": 2,
     "metadata": {
      "slideshow": {
       "slide_type": "slide"
      }
     },
     "source": [
      "What is a notebook?"
     ]
    },
    {
     "cell_type": "code",
     "collapsed": false,
     "input": [
      "name = \"Quick tour of IPython\"\n",
      "!head -n 100 \"{name}.ipynb\" | pygmentize -l json"
     ],
     "language": "python",
     "metadata": {},
     "outputs": []
    },
    {
     "cell_type": "code",
     "collapsed": false,
     "input": [
      "!ipython nbconvert \"{name}\" --to html\n",
      "!open \"`pwd`/{name}.html\""
     ],
     "language": "python",
     "metadata": {},
     "outputs": []
    },
    {
     "cell_type": "code",
     "collapsed": false,
     "input": [
      "!ipython nbconvert \"{name}\" --to python"
     ],
     "language": "python",
     "metadata": {},
     "outputs": []
    },
    {
     "cell_type": "heading",
     "level": 1,
     "metadata": {
      "slideshow": {
       "slide_type": "slide"
      }
     },
     "source": [
      "But what is IPython, *really*?"
     ]
    },
    {
     "cell_type": "markdown",
     "metadata": {},
     "source": [
      "[*A Protocol*](http://ipython.org/ipython-doc/dev/development/messaging.html)\n",
      "\n",
      "Message type: `execute_request`\n",
      "\n",
      "```python\n",
      "content = {\n",
      "    # Source code to be executed by the kernel, one or more lines.\n",
      "    'code' : str,\n",
      "\n",
      "    # A boolean flag which, if True, signals the kernel to execute\n",
      "    # this code as quietly as possible.\n",
      "    'silent' : bool,\n",
      "\n",
      "    # A boolean flag which, if True, signals the kernel to populate history\n",
      "    # The default is True if silent is False.  If silent is True, store_history\n",
      "    # is forced to be False.\n",
      "    'store_history' : bool,\n",
      "    ...\n",
      "}\n",
      "```"
     ]
    },
    {
     "cell_type": "markdown",
     "metadata": {},
     "source": [
      "Message type: `execute_reply`\n",
      "\n",
      "```python\n",
      "content = {\n",
      "  # One of: 'ok' OR 'error'\n",
      "  'status' : str,\n",
      "\n",
      "  # The global kernel counter that increases by one with each request that\n",
      "  # stores history.  This will typically be used by clients to display\n",
      "  # prompt numbers to the user.  If the request did not store history, this will\n",
      "  # be the current value of the counter in the kernel.\n",
      "  'execution_count' : int,\n",
      "}\n",
      "```"
     ]
    },
    {
     "cell_type": "markdown",
     "metadata": {},
     "source": [
      "Message type: `display_data`\n",
      "\n",
      "```python\n",
      "content = {\n",
      "\n",
      "    # Who create the data\n",
      "    'source' : str,\n",
      "\n",
      "    # The data dict contains key/value pairs, where the kids are MIME\n",
      "    # types and the values are the raw data of the representation in that\n",
      "    # format.\n",
      "    'data' : dict,\n",
      "\n",
      "    # Any metadata that describes the data\n",
      "    'metadata' : dict,\n",
      "}\n",
      "```"
     ]
    },
    {
     "cell_type": "code",
     "collapsed": false,
     "input": [
      "%%javascript\n",
      "IPython.notebook.session.kernel.execute(\"a=10\");"
     ],
     "language": "python",
     "metadata": {},
     "outputs": []
    },
    {
     "cell_type": "code",
     "collapsed": false,
     "input": [
      "print a"
     ],
     "language": "python",
     "metadata": {},
     "outputs": []
    },
    {
     "cell_type": "markdown",
     "metadata": {},
     "source": [
      "The protocol is publicly documented: http://ipython.org/ipython-doc/dev/development/messaging.html\n"
     ]
    },
    {
     "cell_type": "heading",
     "level": 2,
     "metadata": {},
     "source": [
      "But there's nothing specific to Python about that, is there?"
     ]
    },
    {
     "cell_type": "markdown",
     "metadata": {},
     "source": [
      "[hmm...](http://nbviewer.ipython.org)"
     ]
    }
   ],
   "metadata": {}
  }
 ]
}