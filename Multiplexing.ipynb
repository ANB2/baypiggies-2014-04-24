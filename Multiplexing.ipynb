{
 "metadata": {
  "name": "",
  "signature": "sha256:f5ce497d00c91a9ed8bcd74cb1e4c267d15d7224db01a2a353de41ebf582d043"
 },
 "nbformat": 3,
 "nbformat_minor": 0,
 "worksheets": [
  {
   "cells": [
    {
     "cell_type": "markdown",
     "metadata": {},
     "source": [
      "# DirectView as multiplexer"
     ]
    },
    {
     "cell_type": "code",
     "collapsed": false,
     "input": [
      "import os,sys,time\n",
      "import numpy as np\n",
      "\n",
      "from IPython.core.display import display\n",
      "from IPython import parallel\n",
      "rc = parallel.Client()"
     ],
     "language": "python",
     "metadata": {},
     "outputs": [],
     "prompt_number": 1
    },
    {
     "cell_type": "markdown",
     "metadata": {},
     "source": [
      "The DirectView can be readily understood as an Engine Multiplexer -\n",
      "it does the same thing on all of its engines.\n",
      "\n",
      "The only difference between running code on a single remote engine\n",
      "and running code in parallel is how many engines the DirectView is\n",
      "instructed to use.\n",
      "\n",
      "You can create DirectViews by index-access to the Client.  This creates\n",
      "a DirectView using the engines after passing the same index (or slice)\n",
      "to the `ids` list."
     ]
    },
    {
     "cell_type": "code",
     "collapsed": true,
     "input": [
      "e0 = rc[0]\n",
      "engines = rc[:]\n",
      "even = rc[::2]\n",
      "odd = rc[1::2]\n",
      "\n",
      "# this is the one we are going to use:\n",
      "dview = engines\n",
      "dview.block = True"
     ],
     "language": "python",
     "metadata": {},
     "outputs": [],
     "prompt_number": 2
    },
    {
     "cell_type": "markdown",
     "metadata": {},
     "source": [
      "Now, the only difference from single-engine remote execution is that the code we run happens on all of the engines of a given view:"
     ]
    },
    {
     "cell_type": "code",
     "collapsed": false,
     "input": [
      "for view in (e0, engines, even, odd):\n",
      "    print view, view.apply_sync(os.getpid)"
     ],
     "language": "python",
     "metadata": {},
     "outputs": [
      {
       "output_type": "stream",
       "stream": "stdout",
       "text": [
        "<DirectView 0> 46193\n",
        "<DirectView [0, 1, 2, 3]> [46193, 46194, 46196, 46195]\n",
        "<DirectView [0, 2]> [46193, 46196]\n",
        "<DirectView [1, 3]> [46194, 46195]\n"
       ]
      }
     ],
     "prompt_number": 3
    },
    {
     "cell_type": "markdown",
     "metadata": {},
     "source": [
      "The results of multiplexed execution is always a list of the length of the number of engines."
     ]
    },
    {
     "cell_type": "code",
     "collapsed": false,
     "input": [
      "engines['a'] = 5\n",
      "engines['a']"
     ],
     "language": "python",
     "metadata": {},
     "outputs": [
      {
       "metadata": {},
       "output_type": "pyout",
       "prompt_number": 4,
       "text": [
        "[5, 5, 5, 5]"
       ]
      }
     ],
     "prompt_number": 4
    },
    {
     "cell_type": "markdown",
     "metadata": {},
     "source": [
      "# Scatter and Gather\n",
      "\n",
      "Lots of parallel computations involve partitioning data onto processes.  \n",
      "DirectViews have `scatter()` and `gather()` methods, to help with this.\n",
      "Pass any container or numpy array, and IPython will partition the object onto the engines wih `scatter`,\n",
      "or reconstruct the full object in the Client with `gather()`."
     ]
    },
    {
     "cell_type": "code",
     "collapsed": false,
     "input": [
      "dview.scatter('a',range(16))\n",
      "dview['a']"
     ],
     "language": "python",
     "metadata": {},
     "outputs": [
      {
       "metadata": {},
       "output_type": "pyout",
       "prompt_number": 5,
       "text": [
        "[[0, 1, 2, 3], [4, 5, 6, 7], [8, 9, 10, 11], [12, 13, 14, 15]]"
       ]
      }
     ],
     "prompt_number": 5
    },
    {
     "cell_type": "code",
     "collapsed": false,
     "input": [
      "dview.gather('a')"
     ],
     "language": "python",
     "metadata": {},
     "outputs": [
      {
       "metadata": {},
       "output_type": "pyout",
       "prompt_number": 6,
       "text": [
        "[0, 1, 2, 3, 4, 5, 6, 7, 8, 9, 10, 11, 12, 13, 14, 15]"
       ]
      }
     ],
     "prompt_number": 6
    },
    {
     "cell_type": "code",
     "collapsed": false,
     "input": [
      "dview.execute(\"asum = sum(a)\")\n",
      "dview.gather('asum')"
     ],
     "language": "python",
     "metadata": {},
     "outputs": [
      {
       "metadata": {},
       "output_type": "pyout",
       "prompt_number": 7,
       "text": [
        "[6, 22, 38, 54]"
       ]
      }
     ],
     "prompt_number": 7
    },
    {
     "cell_type": "markdown",
     "metadata": {},
     "source": [
      "We can pass a 'flatten' keyword,\n",
      "to instruct engines that will only get one item of the list to\n",
      "get the actual item, rather than a one-element sublist:"
     ]
    },
    {
     "cell_type": "code",
     "collapsed": false,
     "input": [
      "dview.scatter('id',rc.ids)\n",
      "dview['id']"
     ],
     "language": "python",
     "metadata": {},
     "outputs": [
      {
       "metadata": {},
       "output_type": "pyout",
       "prompt_number": 8,
       "text": [
        "[[0], [1], [2], [3]]"
       ]
      }
     ],
     "prompt_number": 8
    },
    {
     "cell_type": "code",
     "collapsed": false,
     "input": [
      "dview.scatter('id',rc.ids, flatten=True)\n",
      "dview['id']"
     ],
     "language": "python",
     "metadata": {},
     "outputs": [
      {
       "metadata": {},
       "output_type": "pyout",
       "prompt_number": 9,
       "text": [
        "[0, 1, 2, 3]"
       ]
      }
     ],
     "prompt_number": 9
    },
    {
     "cell_type": "markdown",
     "metadata": {},
     "source": [
      "Scatter and gather also work with numpy arrays"
     ]
    },
    {
     "cell_type": "code",
     "collapsed": false,
     "input": [
      "A = np.random.randint(1,10,(16,4))\n",
      "B = np.random.randint(1,10,(4,16))\n",
      "display(A)\n",
      "display(B)"
     ],
     "language": "python",
     "metadata": {},
     "outputs": [
      {
       "metadata": {},
       "output_type": "display_data",
       "text": [
        "array([[8, 1, 2, 6],\n",
        "       [2, 1, 6, 7],\n",
        "       [9, 1, 9, 5],\n",
        "       [4, 8, 9, 6],\n",
        "       [2, 8, 4, 8],\n",
        "       [1, 3, 2, 7],\n",
        "       [3, 8, 9, 9],\n",
        "       [7, 7, 7, 8],\n",
        "       [2, 2, 4, 3],\n",
        "       [7, 1, 4, 9],\n",
        "       [9, 1, 3, 1],\n",
        "       [1, 7, 4, 8],\n",
        "       [3, 1, 1, 3],\n",
        "       [9, 8, 6, 3],\n",
        "       [7, 5, 6, 6],\n",
        "       [9, 9, 8, 7]])"
       ]
      },
      {
       "metadata": {},
       "output_type": "display_data",
       "text": [
        "array([[3, 9, 4, 6, 5, 8, 3, 2, 6, 9, 4, 4, 8, 6, 8, 3],\n",
        "       [1, 4, 7, 4, 2, 7, 6, 6, 7, 8, 7, 2, 7, 9, 9, 5],\n",
        "       [6, 7, 1, 3, 9, 8, 8, 4, 9, 2, 3, 2, 3, 2, 3, 1],\n",
        "       [4, 2, 2, 4, 3, 8, 8, 4, 6, 3, 9, 9, 9, 8, 8, 4]])"
       ]
      }
     ],
     "prompt_number": 10
    },
    {
     "cell_type": "code",
     "collapsed": false,
     "input": [
      "dview.scatter('A', A)\n",
      "dview.scatter('B', B)\n",
      "display(e0['A'])\n",
      "display(e0['B'])"
     ],
     "language": "python",
     "metadata": {},
     "outputs": [
      {
       "metadata": {},
       "output_type": "display_data",
       "text": [
        "array([[8, 1, 2, 6],\n",
        "       [2, 1, 6, 7],\n",
        "       [9, 1, 9, 5],\n",
        "       [4, 8, 9, 6]])"
       ]
      },
      {
       "metadata": {},
       "output_type": "display_data",
       "text": [
        "array([[3, 9, 4, 6, 5, 8, 3, 2, 6, 9, 4, 4, 8, 6, 8, 3]])"
       ]
      }
     ],
     "prompt_number": 11
    },
    {
     "cell_type": "markdown",
     "metadata": {},
     "source": [
      "# Example: Parallel Matrix Multiply\n",
      "\n",
      "How would I compute the Matrix product `C=A.dot(B)` in parallel? (not looking for brilliant, just correct)."
     ]
    },
    {
     "cell_type": "code",
     "collapsed": false,
     "input": [
      "def pdot(v, A, B):\n",
      "    v['B'] = B # push B everywhere\n",
      "    v.scatter('A', A) # scatter A\n",
      "    v.execute('C=A.dot(B)') # compute the dot-product\n",
      "    return v.gather('C', block=True) # gather the resulting sub-arrays"
     ],
     "language": "python",
     "metadata": {},
     "outputs": [],
     "prompt_number": 14
    },
    {
     "cell_type": "markdown",
     "metadata": {},
     "source": [
      "Let's run this, and validate the result against a local computation."
     ]
    },
    {
     "cell_type": "code",
     "collapsed": false,
     "input": [
      "C_ref = A.dot(B)\n",
      "C1 = pdot(dview, A, B)\n",
      "# validation:\n",
      "(C1==C_ref).all()"
     ],
     "language": "python",
     "metadata": {},
     "outputs": [
      {
       "metadata": {},
       "output_type": "pyout",
       "prompt_number": 16,
       "text": [
        "True"
       ]
      }
     ],
     "prompt_number": 16
    },
    {
     "cell_type": "markdown",
     "metadata": {},
     "source": [
      "# Map\n",
      "\n",
      "DirectViews have a map method, which behaves just like the builtin map,\n",
      "but computed in parallel."
     ]
    },
    {
     "cell_type": "code",
     "collapsed": false,
     "input": [
      "dview.block = True\n",
      "\n",
      "serial_result   =       map(lambda x:x**10, range(32))\n",
      "parallel_result = dview.map(lambda x:x**10, range(32))\n",
      "\n",
      "serial_result==parallel_result"
     ],
     "language": "python",
     "metadata": {},
     "outputs": [
      {
       "metadata": {},
       "output_type": "pyout",
       "prompt_number": 17,
       "text": [
        "True"
       ]
      }
     ],
     "prompt_number": 17
    },
    {
     "cell_type": "markdown",
     "metadata": {},
     "source": [
      "`DirectView.map` partitions the sequences onto each engine,\n",
      "and then calls `map` remotely.  The result is always a single\n",
      "IPython task per engine."
     ]
    },
    {
     "cell_type": "code",
     "collapsed": false,
     "input": [
      "amr = dview.map_async(lambda x:x**10, range(32))\n",
      "amr.msg_ids"
     ],
     "language": "python",
     "metadata": {},
     "outputs": [
      {
       "metadata": {},
       "output_type": "pyout",
       "prompt_number": 18,
       "text": [
        "['7662f701-9018-4cb0-8bbd-c34e18dbe4a3',\n",
        " '86bc9f3b-9929-40fb-a0b2-d3221e2df6ce',\n",
        " 'f5445620-618d-43f7-9fcf-d1b35c012e7f',\n",
        " '472a6bf1-2c45-451f-ba55-8cc1c775d960']"
       ]
      }
     ],
     "prompt_number": 18
    },
    {
     "cell_type": "code",
     "collapsed": false,
     "input": [
      "amr = dview.map_async(lambda x:x**10, range(3200))\n",
      "amr.msg_ids"
     ],
     "language": "python",
     "metadata": {},
     "outputs": [
      {
       "metadata": {},
       "output_type": "pyout",
       "prompt_number": 19,
       "text": [
        "['3cd4d487-4cd9-4a16-9549-9f260fb6f22a',\n",
        " '427c183e-1773-47b9-83ef-04d73189e0e3',\n",
        " 'bf1cf396-7caa-422b-a538-e43823d02865',\n",
        " 'baa77aee-039b-4d26-b4f2-11a183564a61']"
       ]
      }
     ],
     "prompt_number": 19
    },
    {
     "cell_type": "code",
     "collapsed": false,
     "input": [
      "for i,r in enumerate(amr):\n",
      "    if i % 100 == 2:\n",
      "        print(r)\n",
      "    "
     ],
     "language": "python",
     "metadata": {},
     "outputs": [
      {
       "output_type": "stream",
       "stream": "stdout",
       "text": [
        "1024\n",
        "121899441999475713024\n",
        "113113305642107341825024\n",
        "6310582221144799758337024\n",
        "110220031509480408885249024\n",
        "1016335677752841922882561024\n",
        "6251221860048961785910273024\n",
        "29065053138587188698128385024\n",
        "110088938158843764415696897024\n",
        "356504794933236300550775809024\n",
        "1020180963368077455371525121024\n",
        "2641289136639667810602104833024\n",
        "6295709446399367948222674945024\n",
        "13999413527763489727269395457024\n",
        "29341352998619846760634426369024\n",
        "58438535893958804091865927681024\n",
        "111333309079712667071968059393024\n",
        "203983743411963249436200981505024\n",
        "361033803286353460580880854017024\n",
        "619591036119114752040179836929024\n",
        "1034286203095298263162926090241024\n",
        "1683941953091573505989403773953024\n",
        "2680236679910334429328153048065024\n",
        "4178815461728828702032770072577024\n",
        "6393372823851602055478707007489024\n",
        "9613312354336725525240072012801024\n",
        "14225676299726049431966429248513024\n",
        "20742134537827103941459598874625024\n",
        "29831927129149242043950457051137024\n",
        "42361768351069196792575735938049024\n",
        "59443843081971400641054823695361024\n",
        "82493158989356190720566564483073024\n"
       ]
      }
     ],
     "prompt_number": 22
    },
    {
     "cell_type": "code",
     "collapsed": false,
     "input": [],
     "language": "python",
     "metadata": {},
     "outputs": []
    }
   ],
   "metadata": {}
  }
 ]
}