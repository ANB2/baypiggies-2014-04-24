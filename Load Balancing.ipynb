{
 "metadata": {
  "name": ""
 },
 "nbformat": 3,
 "nbformat_minor": 0,
 "worksheets": [
  {
   "cells": [
    {
     "cell_type": "markdown",
     "metadata": {},
     "source": [
      "# Load-balancing with IPython.parallel"
     ]
    },
    {
     "cell_type": "code",
     "collapsed": false,
     "input": [
      "import os,sys,time\n",
      "import numpy as np\n",
      "\n",
      "from IPython.core.display import display\n",
      "from IPython import parallel\n",
      "rc = parallel.Client()\n",
      "dview = rc[:]"
     ],
     "language": "python",
     "metadata": {},
     "outputs": [],
     "prompt_number": 30
    },
    {
     "cell_type": "markdown",
     "metadata": {},
     "source": [
      "Create a LoadBalancedView"
     ]
    },
    {
     "cell_type": "code",
     "collapsed": false,
     "input": [
      "lview = rc.load_balanced_view()\n",
      "lview"
     ],
     "language": "python",
     "metadata": {},
     "outputs": [
      {
       "metadata": {},
       "output_type": "pyout",
       "prompt_number": 31,
       "text": [
        "<LoadBalancedView None>"
       ]
      }
     ],
     "prompt_number": 31
    },
    {
     "cell_type": "markdown",
     "metadata": {},
     "source": [
      "LoadBalancedViews behave very much like a DirectView on a single engine:\n",
      "\n",
      "Each call to `apply()` results in a single remote computation,\n",
      "and the result (or AsyncResult) of that call is returned directly,\n",
      "rather than in a list, as in the multi-engine DirectView."
     ]
    },
    {
     "cell_type": "code",
     "collapsed": true,
     "input": [
      "e0 = rc[0]"
     ],
     "language": "python",
     "metadata": {},
     "outputs": [],
     "prompt_number": 3
    },
    {
     "cell_type": "code",
     "collapsed": false,
     "input": [
      "from numpy.linalg import norm\n",
      "A = np.random.random(1024)\n",
      "\n",
      "e0.apply_sync(norm, A, 2)"
     ],
     "language": "python",
     "metadata": {},
     "outputs": [
      {
       "metadata": {},
       "output_type": "pyout",
       "prompt_number": 4,
       "text": [
        "18.114300118360042"
       ]
      }
     ],
     "prompt_number": 4
    },
    {
     "cell_type": "code",
     "collapsed": false,
     "input": [
      "lview.apply_sync(norm, A, 2)"
     ],
     "language": "python",
     "metadata": {},
     "outputs": [
      {
       "metadata": {},
       "output_type": "pyout",
       "prompt_number": 5,
       "text": [
        "18.114300118360042"
       ]
      }
     ],
     "prompt_number": 5
    },
    {
     "cell_type": "markdown",
     "metadata": {},
     "source": [
      "However, unlike the DirectView of a single engine, you are letting the IPython Scheduler decide which engine should do the work:"
     ]
    },
    {
     "cell_type": "code",
     "collapsed": false,
     "input": [
      "e0.apply_sync(os.getpid)"
     ],
     "language": "python",
     "metadata": {},
     "outputs": [
      {
       "metadata": {},
       "output_type": "pyout",
       "prompt_number": 6,
       "text": [
        "18460"
       ]
      }
     ],
     "prompt_number": 6
    },
    {
     "cell_type": "code",
     "collapsed": false,
     "input": [
      "for i in range(2*len(rc.ids)):\n",
      "    pid = lview.apply_sync(os.getpid)\n",
      "    print \"task %i ran on: %i\" % (i, pid)"
     ],
     "language": "python",
     "metadata": {},
     "outputs": [
      {
       "output_type": "stream",
       "stream": "stdout",
       "text": [
        "task 0 ran on: 18468\n",
        "task 1 ran on: 18460\n",
        "task 2 ran on: 18465\n",
        "task 3 ran on: 18466\n",
        "task 4 ran on: 18468"
       ]
      },
      {
       "output_type": "stream",
       "stream": "stdout",
       "text": [
        "\n",
        "task 5 ran on: 18460\n",
        "task 6 ran on: 18465\n",
        "task 7 ran on: 18466\n"
       ]
      }
     ],
     "prompt_number": 7
    },
    {
     "cell_type": "markdown",
     "metadata": {},
     "source": [
      "# Map\n",
      "\n",
      "The LoadBalancedView also has a load-balanced version of the builtin `map()`"
     ]
    },
    {
     "cell_type": "code",
     "collapsed": false,
     "input": [
      "lview.block = True\n",
      "\n",
      "serial_result   =       map(lambda x:x**10, range(32))\n",
      "parallel_result = lview.map(lambda x:x**10, range(32))\n",
      "\n",
      "serial_result==parallel_result"
     ],
     "language": "python",
     "metadata": {},
     "outputs": [
      {
       "metadata": {},
       "output_type": "pyout",
       "prompt_number": 8,
       "text": [
        "False"
       ]
      }
     ],
     "prompt_number": 8
    },
    {
     "cell_type": "markdown",
     "metadata": {},
     "source": [
      "Just like `apply()`, you can use non-blocking map with `block=False` or `map_async`"
     ]
    },
    {
     "cell_type": "code",
     "collapsed": true,
     "input": [
      "amr = lview.map_async(lambda x:x**10, range(32))\n",
      "amr.msg_ids"
     ],
     "language": "python",
     "metadata": {},
     "outputs": [
      {
       "metadata": {},
       "output_type": "pyout",
       "prompt_number": 10,
       "text": [
        "['75a8db1c-af16-4c3b-95f9-1903bf9f03e1',\n",
        " 'a56b68b9-bcd0-40cc-8cb7-22921b2dfb19',\n",
        " 'c0a15ff0-1d25-4864-8e24-21eb6c2ee75b',\n",
        " '45ba3eb6-2f03-493f-8981-7e6f6a34d461',\n",
        " 'a7bd3461-055b-4eb3-8f6f-c93622ce1446',\n",
        " '4fc85730-a7dd-4573-a7b5-b19ae95770cd',\n",
        " '697ed51f-fd68-4686-8a57-0844fb67b3ee',\n",
        " '20f2cbe4-e7ce-415b-b268-f906609ae3b6',\n",
        " '906ec796-a990-4750-844a-339ac7dd2ffc',\n",
        " '115a533a-9228-4777-980a-8e47b3b4a75b',\n",
        " '4a715a88-91db-46bd-ae76-c4ab4ffa318e',\n",
        " 'd5b0e4ad-9737-44a5-a388-97725f2425cf',\n",
        " 'cadc3f04-aa2b-4eb0-b483-e6b85273e949',\n",
        " '0102269a-e1cd-4a3a-a9db-137b6ff6883f',\n",
        " '6f398a2b-2e4b-41c1-9d89-f3296b2c3f58',\n",
        " '05450878-0625-47e0-8e80-dc53db8d6990',\n",
        " 'b7315b63-e02a-483a-b465-cb040d5aa6c9',\n",
        " '6ddeb9ea-17bb-433c-bdce-2647aa89eb58',\n",
        " '0363276a-a375-44c9-9fa9-e37ba3ac9f87',\n",
        " '0ed2c6f0-4439-4850-ad20-5d8b25f9a72d',\n",
        " '1ddfa524-288f-45fb-8304-c0107f102965',\n",
        " '8047bbf2-7cb0-4a9e-a9ca-d4cbcec6ed8d',\n",
        " 'd46e3c14-58db-4405-ae9c-50511e39bc1c',\n",
        " '707e34a7-ba44-427b-86b0-824a4b017b70',\n",
        " 'ed5bfce0-06f3-496e-832d-baab422040e3',\n",
        " 'b8ed4bc3-5422-49f8-ad4b-18266e138522',\n",
        " '86244f41-819f-4e38-a930-e54103cabdbc',\n",
        " '4d4d9f32-224a-4814-894c-2a381e02e430',\n",
        " '6b718ccf-b8ef-4723-843b-d238736724d4',\n",
        " '3b66a8b0-6498-4840-80ed-31e66f2afe44',\n",
        " '857ae556-419a-4920-9110-0ab4a5ec6fc8',\n",
        " 'd614ddd5-2eac-4e0f-b9fe-fb6e76771308']"
       ]
      }
     ],
     "prompt_number": 10
    },
    {
     "cell_type": "code",
     "collapsed": false,
     "input": [
      "lview.map??"
     ],
     "language": "python",
     "metadata": {},
     "outputs": [],
     "prompt_number": 15
    },
    {
     "cell_type": "code",
     "collapsed": false,
     "input": [
      "amr = lview.map_async(lambda x:x**10, range(32), chunksize=4)\n",
      "amr.msg_ids"
     ],
     "language": "python",
     "metadata": {},
     "outputs": [
      {
       "metadata": {},
       "output_type": "pyout",
       "prompt_number": 17,
       "text": [
        "['8830d8ae-b52f-45c5-89e5-653757aea97d',\n",
        " '305245c3-efc9-4bca-bf1f-b9d93057c9d5',\n",
        " 'c659907f-8f79-417e-b88e-686c8467fa0b',\n",
        " '0334f3cf-cf26-4717-87ee-e3a9fdc209ee',\n",
        " '24e3db1e-7fa7-4fab-8d79-fb91985f22a9',\n",
        " 'dba79227-92e4-4b9d-855b-7d6b509ac2b4',\n",
        " '4ea8c4ef-26f1-412b-a8e6-cc05d7124db5',\n",
        " '420e0c3e-006d-48a0-af85-4e95a8eb4c4e']"
       ]
      }
     ],
     "prompt_number": 17
    },
    {
     "cell_type": "markdown",
     "metadata": {},
     "source": [
      "## Map results are iterable!\n",
      "\n",
      "AsyncResults with multiple results are actually iterable before their\n",
      "results arrive.\n",
      "\n",
      "This means that you can perform map/reduce operations on elements as\n",
      "they come in:"
     ]
    },
    {
     "cell_type": "code",
     "collapsed": false,
     "input": [
      "lview.block = False"
     ],
     "language": "python",
     "metadata": {},
     "outputs": [],
     "prompt_number": 18
    },
    {
     "cell_type": "code",
     "collapsed": false,
     "input": [
      "# scatter 'id', so id=0,1,2 on engines 0,1,2\n",
      "dv = rc[:]\n",
      "dv.scatter('id', rc.ids, flatten=True)\n",
      "print dv['id']\n",
      "\n",
      "# create a Reference to `id`. This will be a different value on each engine\n",
      "ref = parallel.Reference('id')\n",
      "\n",
      "tic = time.time()\n",
      "ar = dv.apply(time.sleep, ref)\n",
      "for i,r in enumerate(ar):\n",
      "    print \"%i: %.3f\"%(i, time.time()-tic)"
     ],
     "language": "python",
     "metadata": {},
     "outputs": [
      {
       "output_type": "stream",
       "stream": "stdout",
       "text": [
        "[0, 1, 2, 3]\n",
        "0: 0.008\n",
        "1: 1.008"
       ]
      },
      {
       "output_type": "stream",
       "stream": "stdout",
       "text": [
        "\n",
        "2: 2.008"
       ]
      },
      {
       "output_type": "stream",
       "stream": "stdout",
       "text": [
        "\n",
        "3: 3.006"
       ]
      },
      {
       "output_type": "stream",
       "stream": "stdout",
       "text": [
        "\n"
       ]
      }
     ],
     "prompt_number": 47
    },
    {
     "cell_type": "code",
     "collapsed": false,
     "input": [
      "amr = lview.map_async(time.sleep, [1] * 12)\n"
     ],
     "language": "python",
     "metadata": {},
     "outputs": [],
     "prompt_number": 41
    },
    {
     "cell_type": "code",
     "collapsed": false,
     "input": [
      "amr.wait_interactive()"
     ],
     "language": "python",
     "metadata": {},
     "outputs": [
      {
       "output_type": "stream",
       "stream": "stdout",
       "text": [
        "  12/12 tasks finished after    3 s"
       ]
      },
      {
       "output_type": "stream",
       "stream": "stdout",
       "text": [
        "\n",
        "done\n"
       ]
      }
     ],
     "prompt_number": 42
    },
    {
     "cell_type": "code",
     "collapsed": false,
     "input": [
      "amr.wall_time, amr.elapsed"
     ],
     "language": "python",
     "metadata": {},
     "outputs": [
      {
       "metadata": {},
       "output_type": "pyout",
       "prompt_number": 43,
       "text": [
        "(3.025718, 3.025718)"
       ]
      }
     ],
     "prompt_number": 43
    },
    {
     "cell_type": "code",
     "collapsed": false,
     "input": [
      "amr.serial_time"
     ],
     "language": "python",
     "metadata": {},
     "outputs": [
      {
       "metadata": {},
       "output_type": "pyout",
       "prompt_number": 33,
       "text": [
        "1.2169189999999999"
       ]
      }
     ],
     "prompt_number": 33
    },
    {
     "cell_type": "code",
     "collapsed": false,
     "input": [
      "amr.wall_time"
     ],
     "language": "python",
     "metadata": {},
     "outputs": [
      {
       "metadata": {},
       "output_type": "pyout",
       "prompt_number": 34,
       "text": [
        "0.328612"
       ]
      }
     ],
     "prompt_number": 34
    },
    {
     "cell_type": "code",
     "collapsed": false,
     "input": [
      "amr.elapsed"
     ],
     "language": "python",
     "metadata": {},
     "outputs": [
      {
       "metadata": {},
       "output_type": "pyout",
       "prompt_number": 35,
       "text": [
        "0.328612"
       ]
      }
     ],
     "prompt_number": 35
    },
    {
     "cell_type": "code",
     "collapsed": false,
     "input": [
      "rc.queue_status()"
     ],
     "language": "python",
     "metadata": {},
     "outputs": [
      {
       "metadata": {},
       "output_type": "pyout",
       "prompt_number": 29,
       "text": [
        "{0: {'completed': 38, 'queue': 0, 'tasks': 2},\n",
        " 1: {'completed': 34, 'queue': 0, 'tasks': 1},\n",
        " 2: {'completed': 34, 'queue': 0, 'tasks': 2},\n",
        " 3: {'completed': 34, 'queue': 0, 'tasks': 1},\n",
        " 'unassigned': 0}"
       ]
      }
     ],
     "prompt_number": 29
    },
    {
     "cell_type": "code",
     "collapsed": false,
     "input": [
      "amr.get()"
     ],
     "language": "python",
     "metadata": {},
     "outputs": [
      {
       "ename": "KeyboardInterrupt",
       "evalue": "",
       "output_type": "pyerr",
       "traceback": [
        "\u001b[1;31m---------------------------------------------------------------------------\u001b[0m\n\u001b[1;31mKeyboardInterrupt\u001b[0m                         Traceback (most recent call last)",
        "\u001b[1;32m<ipython-input-24-39e35420fdea>\u001b[0m in \u001b[0;36m<module>\u001b[1;34m()\u001b[0m\n\u001b[1;32m----> 1\u001b[1;33m \u001b[0mamr\u001b[0m\u001b[1;33m.\u001b[0m\u001b[0mget\u001b[0m\u001b[1;33m(\u001b[0m\u001b[1;33m)\u001b[0m\u001b[1;33m\u001b[0m\u001b[0m\n\u001b[0m",
        "\u001b[1;32m/Users/minrk/dev/ip/mine/IPython/parallel/client/asyncresult.pyc\u001b[0m in \u001b[0;36mget\u001b[1;34m(self, timeout)\u001b[0m\n\u001b[0;32m    109\u001b[0m         \"\"\"\n\u001b[0;32m    110\u001b[0m         \u001b[1;32mif\u001b[0m \u001b[1;32mnot\u001b[0m \u001b[0mself\u001b[0m\u001b[1;33m.\u001b[0m\u001b[0mready\u001b[0m\u001b[1;33m(\u001b[0m\u001b[1;33m)\u001b[0m\u001b[1;33m:\u001b[0m\u001b[1;33m\u001b[0m\u001b[0m\n\u001b[1;32m--> 111\u001b[1;33m             \u001b[0mself\u001b[0m\u001b[1;33m.\u001b[0m\u001b[0mwait\u001b[0m\u001b[1;33m(\u001b[0m\u001b[0mtimeout\u001b[0m\u001b[1;33m)\u001b[0m\u001b[1;33m\u001b[0m\u001b[0m\n\u001b[0m\u001b[0;32m    112\u001b[0m \u001b[1;33m\u001b[0m\u001b[0m\n\u001b[0;32m    113\u001b[0m         \u001b[1;32mif\u001b[0m \u001b[0mself\u001b[0m\u001b[1;33m.\u001b[0m\u001b[0m_ready\u001b[0m\u001b[1;33m:\u001b[0m\u001b[1;33m\u001b[0m\u001b[0m\n",
        "\u001b[1;32m/Users/minrk/dev/ip/mine/IPython/parallel/client/asyncresult.pyc\u001b[0m in \u001b[0;36mwait\u001b[1;34m(self, timeout)\u001b[0m\n\u001b[0;32m    140\u001b[0m             \u001b[0mself\u001b[0m\u001b[1;33m.\u001b[0m\u001b[0m_wait_for_outputs\u001b[0m\u001b[1;33m(\u001b[0m\u001b[0mtimeout\u001b[0m\u001b[1;33m)\u001b[0m\u001b[1;33m\u001b[0m\u001b[0m\n\u001b[0;32m    141\u001b[0m             \u001b[1;32mreturn\u001b[0m\u001b[1;33m\u001b[0m\u001b[0m\n\u001b[1;32m--> 142\u001b[1;33m         \u001b[0mself\u001b[0m\u001b[1;33m.\u001b[0m\u001b[0m_ready\u001b[0m \u001b[1;33m=\u001b[0m \u001b[0mself\u001b[0m\u001b[1;33m.\u001b[0m\u001b[0m_client\u001b[0m\u001b[1;33m.\u001b[0m\u001b[0mwait\u001b[0m\u001b[1;33m(\u001b[0m\u001b[0mself\u001b[0m\u001b[1;33m.\u001b[0m\u001b[0mmsg_ids\u001b[0m\u001b[1;33m,\u001b[0m \u001b[0mtimeout\u001b[0m\u001b[1;33m)\u001b[0m\u001b[1;33m\u001b[0m\u001b[0m\n\u001b[0m\u001b[0;32m    143\u001b[0m         \u001b[1;32mif\u001b[0m \u001b[0mself\u001b[0m\u001b[1;33m.\u001b[0m\u001b[0m_ready\u001b[0m\u001b[1;33m:\u001b[0m\u001b[1;33m\u001b[0m\u001b[0m\n\u001b[0;32m    144\u001b[0m             \u001b[1;32mtry\u001b[0m\u001b[1;33m:\u001b[0m\u001b[1;33m\u001b[0m\u001b[0m\n",
        "\u001b[1;32m/Users/minrk/dev/ip/mine/IPython/parallel/client/client.pyc\u001b[0m in \u001b[0;36mwait\u001b[1;34m(self, jobs, timeout)\u001b[0m\n\u001b[0;32m   1084\u001b[0m             \u001b[1;32mif\u001b[0m \u001b[0mtimeout\u001b[0m \u001b[1;33m>=\u001b[0m \u001b[1;36m0\u001b[0m \u001b[1;32mand\u001b[0m \u001b[1;33m(\u001b[0m \u001b[0mtime\u001b[0m\u001b[1;33m.\u001b[0m\u001b[0mtime\u001b[0m\u001b[1;33m(\u001b[0m\u001b[1;33m)\u001b[0m\u001b[1;33m-\u001b[0m\u001b[0mtic\u001b[0m \u001b[1;33m)\u001b[0m \u001b[1;33m>\u001b[0m \u001b[0mtimeout\u001b[0m\u001b[1;33m:\u001b[0m\u001b[1;33m\u001b[0m\u001b[0m\n\u001b[0;32m   1085\u001b[0m                 \u001b[1;32mbreak\u001b[0m\u001b[1;33m\u001b[0m\u001b[0m\n\u001b[1;32m-> 1086\u001b[1;33m             \u001b[0mtime\u001b[0m\u001b[1;33m.\u001b[0m\u001b[0msleep\u001b[0m\u001b[1;33m(\u001b[0m\u001b[1;36m1e-3\u001b[0m\u001b[1;33m)\u001b[0m\u001b[1;33m\u001b[0m\u001b[0m\n\u001b[0m\u001b[0;32m   1087\u001b[0m             \u001b[0mself\u001b[0m\u001b[1;33m.\u001b[0m\u001b[0mspin\u001b[0m\u001b[1;33m(\u001b[0m\u001b[1;33m)\u001b[0m\u001b[1;33m\u001b[0m\u001b[0m\n\u001b[0;32m   1088\u001b[0m         \u001b[1;32mreturn\u001b[0m \u001b[0mlen\u001b[0m\u001b[1;33m(\u001b[0m\u001b[0mtheids\u001b[0m\u001b[1;33m.\u001b[0m\u001b[0mintersection\u001b[0m\u001b[1;33m(\u001b[0m\u001b[0mself\u001b[0m\u001b[1;33m.\u001b[0m\u001b[0moutstanding\u001b[0m\u001b[1;33m)\u001b[0m\u001b[1;33m)\u001b[0m \u001b[1;33m==\u001b[0m \u001b[1;36m0\u001b[0m\u001b[1;33m\u001b[0m\u001b[0m\n",
        "\u001b[1;31mKeyboardInterrupt\u001b[0m: "
       ]
      }
     ],
     "prompt_number": 24
    },
    {
     "cell_type": "code",
     "collapsed": false,
     "input": [
      "ar.serial_time"
     ],
     "language": "python",
     "metadata": {},
     "outputs": [
      {
       "metadata": {},
       "output_type": "pyout",
       "prompt_number": 20,
       "text": [
        "6.001883"
       ]
      }
     ],
     "prompt_number": 20
    },
    {
     "cell_type": "code",
     "collapsed": false,
     "input": [
      "ar.wall_time"
     ],
     "language": "python",
     "metadata": {},
     "outputs": [
      {
       "metadata": {},
       "output_type": "pyout",
       "prompt_number": 21,
       "text": [
        "3.006191"
       ]
      }
     ],
     "prompt_number": 21
    },
    {
     "cell_type": "code",
     "collapsed": false,
     "input": [
      "amr"
     ],
     "language": "python",
     "metadata": {},
     "outputs": []
    },
    {
     "cell_type": "markdown",
     "metadata": {},
     "source": [
      "Now we submit a bunch of tasks of increasing magnitude, and\n",
      "watch where they happen, iterating through the results as they come."
     ]
    },
    {
     "cell_type": "code",
     "collapsed": false,
     "input": [
      "def sleep_here(t):\n",
      "    \"\"\"sleep here for a time, return where it happened\"\"\"\n",
      "    import time\n",
      "    time.sleep(t)\n",
      "    return id\n",
      "\n",
      "amr = lview.map(sleep_here, [.01*t for t in range(100)])\n",
      "tic = time.time()\n",
      "for i,r in enumerate(amr):\n",
      "    print i,r\n",
      "    print \"task %i on engine %i: %.3f\" % (i, r, time.time()-tic)\n"
     ],
     "language": "python",
     "metadata": {},
     "outputs": [
      {
       "output_type": "stream",
       "stream": "stdout",
       "text": [
        "0 2\n",
        "task 0 on engine 2: 0.007\n",
        "1 3\n",
        "task 1 on engine 3: 0.015\n",
        "2 1\n",
        "task 2 on engine 1: 0.033\n",
        "3 0\n",
        "task 3 on engine 0: 0.052\n",
        "4"
       ]
      },
      {
       "output_type": "stream",
       "stream": "stdout",
       "text": [
        " 2\n",
        "task 4 on engine 2: 0.073\n",
        "5 3\n",
        "task 5 on engine 3: 0.094\n",
        "6"
       ]
      },
      {
       "output_type": "stream",
       "stream": "stdout",
       "text": [
        " 1\n",
        "task 6 on engine 1: 0.134\n",
        "7 0\n",
        "task 7 on engine 0: 0.161\n",
        "8"
       ]
      },
      {
       "output_type": "stream",
       "stream": "stdout",
       "text": [
        " 2\n",
        "task 8 on engine 2: 0.192\n",
        "9 3\n",
        "task 9 on engine 3: 0.225\n",
        "10"
       ]
      },
      {
       "output_type": "stream",
       "stream": "stdout",
       "text": [
        " 1\n",
        "task 10 on engine 1: 0.275\n",
        "11 0\n",
        "task 11 on engine 0: 0.314\n",
        "12"
       ]
      },
      {
       "output_type": "stream",
       "stream": "stdout",
       "text": [
        " 2\n",
        "task 12 on engine 2: 0.355\n",
        "13 3\n",
        "task 13 on engine 3: 0.398\n",
        "14"
       ]
      },
      {
       "output_type": "stream",
       "stream": "stdout",
       "text": [
        " 1\n",
        "task 14 on engine 1: 0.457\n",
        "15 0\n",
        "task 15 on engine 0: 0.506\n",
        "16"
       ]
      },
      {
       "output_type": "stream",
       "stream": "stdout",
       "text": [
        " 2\n",
        "task 16 on engine 2: 0.557\n",
        "17"
       ]
      },
      {
       "output_type": "stream",
       "stream": "stdout",
       "text": [
        " 3\n",
        "task 17 on engine 3: 0.611\n",
        "18"
       ]
      },
      {
       "output_type": "stream",
       "stream": "stdout",
       "text": [
        " 1\n",
        "task 18 on engine 1: 0.680\n",
        "19"
       ]
      },
      {
       "output_type": "stream",
       "stream": "stdout",
       "text": [
        " 0\n",
        "task 19 on engine 0: 0.741\n",
        "20"
       ]
      },
      {
       "output_type": "stream",
       "stream": "stdout",
       "text": [
        " 2\n",
        "task 20 on engine 2: 0.805\n",
        "21"
       ]
      },
      {
       "output_type": "stream",
       "stream": "stdout",
       "text": [
        " 3\n",
        "task 21 on engine 3: 0.865\n",
        "22"
       ]
      },
      {
       "output_type": "stream",
       "stream": "stdout",
       "text": [
        " 1\n",
        "task 22 on engine 1: 0.943\n",
        "23"
       ]
      },
      {
       "output_type": "stream",
       "stream": "stdout",
       "text": [
        " 0\n",
        "task 23 on engine 0: 1.015\n",
        "24"
       ]
      },
      {
       "output_type": "stream",
       "stream": "stdout",
       "text": [
        " 2\n",
        "task 24 on engine 2: 1.086\n",
        "25"
       ]
      },
      {
       "output_type": "stream",
       "stream": "stdout",
       "text": [
        " 3\n",
        "task 25 on engine 3: 1.158\n",
        "26"
       ]
      },
      {
       "output_type": "stream",
       "stream": "stdout",
       "text": [
        " 1\n",
        "task 26 on engine 1: 1.247\n",
        "27"
       ]
      },
      {
       "output_type": "stream",
       "stream": "stdout",
       "text": [
        " 0\n",
        "task 27 on engine 0: 1.330\n",
        "28"
       ]
      },
      {
       "output_type": "stream",
       "stream": "stdout",
       "text": [
        " 2\n",
        "task 28 on engine 2: 1.414\n",
        "29"
       ]
      },
      {
       "output_type": "stream",
       "stream": "stdout",
       "text": [
        " 3\n",
        "task 29 on engine 3: 1.492\n",
        "30"
       ]
      },
      {
       "output_type": "stream",
       "stream": "stdout",
       "text": [
        " 1\n",
        "task 30 on engine 1: 1.591\n",
        "31"
       ]
      },
      {
       "output_type": "stream",
       "stream": "stdout",
       "text": [
        " 0\n",
        "task 31 on engine 0: 1.680\n",
        "32"
       ]
      },
      {
       "output_type": "stream",
       "stream": "stdout",
       "text": [
        " 2\n",
        "task 32 on engine 2: 1.771\n",
        "33"
       ]
      },
      {
       "output_type": "stream",
       "stream": "stdout",
       "text": [
        " 3\n",
        "task 33 on engine 3: 1.864\n",
        "34"
       ]
      },
      {
       "output_type": "stream",
       "stream": "stdout",
       "text": [
        " 1\n",
        "task 34 on engine 1: 1.977\n",
        "35"
       ]
      },
      {
       "output_type": "stream",
       "stream": "stdout",
       "text": [
        " 0\n",
        "task 35 on engine 0: 2.074\n",
        "36"
       ]
      },
      {
       "output_type": "stream",
       "stream": "stdout",
       "text": [
        " 2\n",
        "task 36 on engine 2: 2.176\n",
        "37"
       ]
      },
      {
       "output_type": "stream",
       "stream": "stdout",
       "text": [
        " 3\n",
        "task 37 on engine 3: 2.281\n",
        "38"
       ]
      },
      {
       "output_type": "stream",
       "stream": "stdout",
       "text": [
        " 1\n",
        "task 38 on engine 1: 2.399\n",
        "39"
       ]
      },
      {
       "output_type": "stream",
       "stream": "stdout",
       "text": [
        " 0\n",
        "task 39 on engine 0: 2.507\n",
        "40"
       ]
      },
      {
       "output_type": "stream",
       "stream": "stdout",
       "text": [
        " 2\n",
        "task 40 on engine 2: 2.618\n",
        "41"
       ]
      },
      {
       "output_type": "stream",
       "stream": "stdout",
       "text": [
        " 3\n",
        "task 41 on engine 3: 2.734\n",
        "42"
       ]
      },
      {
       "output_type": "stream",
       "stream": "stdout",
       "text": [
        " 1\n",
        "task 42 on engine 1: 2.863\n",
        "43"
       ]
      },
      {
       "output_type": "stream",
       "stream": "stdout",
       "text": [
        " 0\n",
        "task 43 on engine 0: 2.979\n",
        "44"
       ]
      },
      {
       "output_type": "stream",
       "stream": "stdout",
       "text": [
        " 2\n",
        "task 44 on engine 2: 3.101\n",
        "45"
       ]
      },
      {
       "output_type": "stream",
       "stream": "stdout",
       "text": [
        " 3\n",
        "task 45 on engine 3: 3.225\n",
        "46"
       ]
      },
      {
       "output_type": "stream",
       "stream": "stdout",
       "text": [
        " 1\n",
        "task 46 on engine 1: 3.368\n",
        "47"
       ]
      },
      {
       "output_type": "stream",
       "stream": "stdout",
       "text": [
        " 0\n",
        "task 47 on engine 0: 3.493\n",
        "48"
       ]
      },
      {
       "output_type": "stream",
       "stream": "stdout",
       "text": [
        " 2\n",
        "task 48 on engine 2: 3.623\n",
        "49"
       ]
      },
      {
       "output_type": "stream",
       "stream": "stdout",
       "text": [
        " 3\n",
        "task 49 on engine 3: 3.759\n",
        "50"
       ]
      },
      {
       "output_type": "stream",
       "stream": "stdout",
       "text": [
        " 1\n",
        "task 50 on engine 1: 3.909\n",
        "51"
       ]
      },
      {
       "output_type": "stream",
       "stream": "stdout",
       "text": [
        " 0\n",
        "task 51 on engine 0: 4.045\n",
        "52"
       ]
      },
      {
       "output_type": "stream",
       "stream": "stdout",
       "text": [
        " 2\n",
        "task 52 on engine 2: 4.189\n",
        "53"
       ]
      },
      {
       "output_type": "stream",
       "stream": "stdout",
       "text": [
        " 3\n",
        "task 53 on engine 3: 4.334\n",
        "54"
       ]
      },
      {
       "output_type": "stream",
       "stream": "stdout",
       "text": [
        " 1\n",
        "task 54 on engine 1: 4.491\n",
        "55"
       ]
      },
      {
       "output_type": "stream",
       "stream": "stdout",
       "text": [
        " 0\n",
        "task 55 on engine 0: 4.637\n",
        "56"
       ]
      },
      {
       "output_type": "stream",
       "stream": "stdout",
       "text": [
        " 2\n",
        "task 56 on engine 2: 4.790\n",
        "57"
       ]
      },
      {
       "output_type": "stream",
       "stream": "stdout",
       "text": [
        " 3\n",
        "task 57 on engine 3: 4.945\n",
        "58"
       ]
      },
      {
       "output_type": "stream",
       "stream": "stdout",
       "text": [
        " 1\n",
        "task 58 on engine 1: 5.116\n",
        "59"
       ]
      },
      {
       "output_type": "stream",
       "stream": "stdout",
       "text": [
        " 0\n",
        "task 59 on engine 0: 5.271\n",
        "60"
       ]
      },
      {
       "output_type": "stream",
       "stream": "stdout",
       "text": [
        " 2\n",
        "task 60 on engine 2: 5.432\n",
        "61"
       ]
      },
      {
       "output_type": "stream",
       "stream": "stdout",
       "text": [
        " 3\n",
        "task 61 on engine 3: 5.599\n",
        "62"
       ]
      },
      {
       "output_type": "stream",
       "stream": "stdout",
       "text": [
        " 1\n",
        "task 62 on engine 1: 5.776\n",
        "63"
       ]
      },
      {
       "output_type": "stream",
       "stream": "stdout",
       "text": [
        " 0\n",
        "task 63 on engine 0: 5.944\n",
        "64"
       ]
      },
      {
       "output_type": "stream",
       "stream": "stdout",
       "text": [
        " 2\n",
        "task 64 on engine 2: 6.117\n",
        "65"
       ]
      },
      {
       "output_type": "stream",
       "stream": "stdout",
       "text": [
        " 3\n",
        "task 65 on engine 3: 6.293\n",
        "66"
       ]
      },
      {
       "output_type": "stream",
       "stream": "stdout",
       "text": [
        " 1\n",
        "task 66 on engine 1: 6.479\n",
        "67"
       ]
      },
      {
       "output_type": "stream",
       "stream": "stdout",
       "text": [
        " 0\n",
        "task 67 on engine 0: 6.659\n",
        "68"
       ]
      },
      {
       "output_type": "stream",
       "stream": "stdout",
       "text": [
        " 2\n",
        "task 68 on engine 2: 6.840\n",
        "69"
       ]
      },
      {
       "output_type": "stream",
       "stream": "stdout",
       "text": [
        " 3\n",
        "task 69 on engine 3: 7.029\n",
        "70"
       ]
      },
      {
       "output_type": "stream",
       "stream": "stdout",
       "text": [
        " 1\n",
        "task 70 on engine 1: 7.220\n",
        "71"
       ]
      },
      {
       "output_type": "stream",
       "stream": "stdout",
       "text": [
        " 0\n",
        "task 71 on engine 0: 7.412\n",
        "72"
       ]
      },
      {
       "output_type": "stream",
       "stream": "stdout",
       "text": [
        " 2\n",
        "task 72 on engine 2: 7.602\n",
        "73"
       ]
      },
      {
       "output_type": "stream",
       "stream": "stdout",
       "text": [
        " 3\n",
        "task 73 on engine 3: 7.799\n",
        "74"
       ]
      },
      {
       "output_type": "stream",
       "stream": "stdout",
       "text": [
        " 1\n",
        "task 74 on engine 1: 8.005\n",
        "75"
       ]
      },
      {
       "output_type": "stream",
       "stream": "stdout",
       "text": [
        " 0\n",
        "task 75 on engine 0: 8.204\n",
        "76"
       ]
      },
      {
       "output_type": "stream",
       "stream": "stdout",
       "text": [
        " 2\n",
        "task 76 on engine 2: 8.405\n",
        "77"
       ]
      },
      {
       "output_type": "stream",
       "stream": "stdout",
       "text": [
        " 3\n",
        "task 77 on engine 3: 8.616\n",
        "78"
       ]
      },
      {
       "output_type": "stream",
       "stream": "stdout",
       "text": [
        " 1\n",
        "task 78 on engine 1: 8.827\n",
        "79"
       ]
      },
      {
       "output_type": "stream",
       "stream": "stdout",
       "text": [
        " 0\n",
        "task 79 on engine 0: 9.037\n",
        "80"
       ]
      },
      {
       "output_type": "stream",
       "stream": "stdout",
       "text": [
        " 2\n",
        "task 80 on engine 2: 9.249\n",
        "81"
       ]
      },
      {
       "output_type": "stream",
       "stream": "stdout",
       "text": [
        " 3\n",
        "task 81 on engine 3: 9.466\n",
        "82"
       ]
      },
      {
       "output_type": "stream",
       "stream": "stdout",
       "text": [
        " 1\n",
        "task 82 on engine 1: 9.691\n",
        "83"
       ]
      },
      {
       "output_type": "stream",
       "stream": "stdout",
       "text": [
        " 0\n",
        "task 83 on engine 0: 9.911\n",
        "84"
       ]
      },
      {
       "output_type": "stream",
       "stream": "stdout",
       "text": [
        " 2\n",
        "task 84 on engine 2: 10.131\n",
        "85"
       ]
      },
      {
       "output_type": "stream",
       "stream": "stdout",
       "text": [
        " 3\n",
        "task 85 on engine 3: 10.358\n",
        "86"
       ]
      },
      {
       "output_type": "stream",
       "stream": "stdout",
       "text": [
        " 1\n",
        "task 86 on engine 1: 10.592\n",
        "87"
       ]
      },
      {
       "output_type": "stream",
       "stream": "stdout",
       "text": [
        " 0\n",
        "task 87 on engine 0: 10.823\n",
        "88"
       ]
      },
      {
       "output_type": "stream",
       "stream": "stdout",
       "text": [
        " 2\n",
        "task 88 on engine 2: 11.055\n",
        "89"
       ]
      },
      {
       "output_type": "stream",
       "stream": "stdout",
       "text": [
        " 3\n",
        "task 89 on engine 3: 11.291\n",
        "90"
       ]
      },
      {
       "output_type": "stream",
       "stream": "stdout",
       "text": [
        " 1\n",
        "task 90 on engine 1: 11.535\n",
        "91"
       ]
      },
      {
       "output_type": "stream",
       "stream": "stdout",
       "text": [
        " 0\n",
        "task 91 on engine 0: 11.777\n",
        "92"
       ]
      },
      {
       "output_type": "stream",
       "stream": "stdout",
       "text": [
        " 2\n",
        "task 92 on engine 2: 12.016\n",
        "93"
       ]
      },
      {
       "output_type": "stream",
       "stream": "stdout",
       "text": [
        " 3\n",
        "task 93 on engine 3: 12.265\n",
        "94"
       ]
      },
      {
       "output_type": "stream",
       "stream": "stdout",
       "text": [
        " 1\n",
        "task 94 on engine 1: 12.519\n",
        "95"
       ]
      },
      {
       "output_type": "stream",
       "stream": "stdout",
       "text": [
        " 0\n",
        "task 95 on engine 0: 12.770\n",
        "96 2\n",
        "task 96 on engine 2: 12.770\n",
        "97 3\n",
        "task 97 on engine 3: 12.770\n",
        "98 1\n",
        "task 98 on engine 1: 12.770\n",
        "99 0\n",
        "task 99 on engine 0: 12.770\n"
       ]
      }
     ],
     "prompt_number": 48
    },
    {
     "cell_type": "code",
     "collapsed": false,
     "input": [
      "amr.wall_time"
     ],
     "language": "python",
     "metadata": {},
     "outputs": [
      {
       "metadata": {},
       "output_type": "pyout",
       "prompt_number": 49,
       "text": [
        "12.8503"
       ]
      }
     ],
     "prompt_number": 49
    },
    {
     "cell_type": "code",
     "collapsed": false,
     "input": [
      "amr.serial_time"
     ],
     "language": "python",
     "metadata": {},
     "outputs": [
      {
       "metadata": {},
       "output_type": "pyout",
       "prompt_number": 50,
       "text": [
        "49.627147000000015"
       ]
      }
     ],
     "prompt_number": 50
    },
    {
     "cell_type": "code",
     "collapsed": false,
     "input": [
      "amr.serial_time / amr.wall_time"
     ],
     "language": "python",
     "metadata": {},
     "outputs": [
      {
       "metadata": {},
       "output_type": "pyout",
       "prompt_number": 51,
       "text": [
        "3.8619446238609223"
       ]
      }
     ],
     "prompt_number": 51
    },
    {
     "cell_type": "markdown",
     "metadata": {},
     "source": [
      "Unlike `DirectView.map()`, which always results in one task per engine,\n",
      "LoadBalance map defaults to one task per *item* in the sequence.  This\n",
      "can be changed by specifying the `chunksize` keyword arg."
     ]
    },
    {
     "cell_type": "code",
     "collapsed": false,
     "input": [
      "amr = lview.map(sleep_here, [.01*t for t in range(100)], chunksize=4)\n",
      "tic = time.time()\n",
      "for i,r in enumerate(amr):\n",
      "    print \"task %i on engine %i: %.3f\"%(i, r, time.time()-tic)"
     ],
     "language": "python",
     "metadata": {},
     "outputs": [
      {
       "output_type": "stream",
       "stream": "stdout",
       "text": [
        "task 0 on engine 2: 0.756\n",
        "task 1 on engine 2: 0.756\n",
        "task 2 on engine 2: 0.756\n",
        "task 3 on engine 2: 0.756\n",
        "task 4 on engine 3: 1.081"
       ]
      },
      {
       "output_type": "stream",
       "stream": "stdout",
       "text": [
        "\n",
        "task 5 on engine 3: 1.082\n",
        "task 6 on engine 3: 1.082\n",
        "task 7 on engine 3: 1.082\n",
        "task 8 on engine 1: 1.404"
       ]
      },
      {
       "output_type": "stream",
       "stream": "stdout",
       "text": [
        "\n",
        "task 9 on engine 1: 1.404\n",
        "task 10 on engine 1: 1.404\n",
        "task 11 on engine 1: 1.404\n",
        "task 12 on engine 0: 1.727"
       ]
      },
      {
       "output_type": "stream",
       "stream": "stdout",
       "text": [
        "\n",
        "task 13 on engine 0: 1.727\n",
        "task 14 on engine 0: 1.727\n",
        "task 15 on engine 0: 1.727\n",
        "task 16 on engine 2: 2.102"
       ]
      },
      {
       "output_type": "stream",
       "stream": "stdout",
       "text": [
        "\n",
        "task 17 on engine 2: 2.102\n",
        "task 18 on engine 2: 2.102\n",
        "task 19 on engine 2: 2.102\n",
        "task 20 on engine 3: 2.586"
       ]
      },
      {
       "output_type": "stream",
       "stream": "stdout",
       "text": [
        "\n",
        "task 21 on engine 3: 2.587\n",
        "task 22 on engine 3: 2.587\n",
        "task 23 on engine 3: 2.587\n",
        "task 24 on engine 1: 3.067"
       ]
      },
      {
       "output_type": "stream",
       "stream": "stdout",
       "text": [
        "\n",
        "task 25 on engine 1: 3.068\n",
        "task 26 on engine 1: 3.068\n",
        "task 27 on engine 1: 3.068\n",
        "task 28 on engine 0: 3.551"
       ]
      },
      {
       "output_type": "stream",
       "stream": "stdout",
       "text": [
        "\n",
        "task 29 on engine 0: 3.551\n",
        "task 30 on engine 0: 3.551\n",
        "task 31 on engine 0: 3.551\n",
        "task 32 on engine 2: 4.087"
       ]
      },
      {
       "output_type": "stream",
       "stream": "stdout",
       "text": [
        "\n",
        "task 33 on engine 2: 4.088\n",
        "task 34 on engine 2: 4.088\n",
        "task 35 on engine 2: 4.088\n",
        "task 36 on engine 3: 4.731"
       ]
      },
      {
       "output_type": "stream",
       "stream": "stdout",
       "text": [
        "\n",
        "task 37 on engine 3: 4.731\n",
        "task 38 on engine 3: 4.732\n",
        "task 39 on engine 3: 4.732\n",
        "task 40 on engine 1: 5.372"
       ]
      },
      {
       "output_type": "stream",
       "stream": "stdout",
       "text": [
        "\n",
        "task 41 on engine 1: 5.373\n",
        "task 42 on engine 1: 5.373\n",
        "task 43 on engine 1: 5.373\n",
        "task 44 on engine 0: 6.015"
       ]
      },
      {
       "output_type": "stream",
       "stream": "stdout",
       "text": [
        "\n",
        "task 45 on engine 0: 6.016\n",
        "task 46 on engine 0: 6.016\n",
        "task 47 on engine 0: 6.016\n",
        "task 48 on engine 2: 6.713"
       ]
      },
      {
       "output_type": "stream",
       "stream": "stdout",
       "text": [
        "\n",
        "task 49 on engine 2: 6.713\n",
        "task 50 on engine 2: 6.713\n",
        "task 51 on engine 2: 6.714\n",
        "task 52 on engine 3: 7.514"
       ]
      },
      {
       "output_type": "stream",
       "stream": "stdout",
       "text": [
        "\n",
        "task 53 on engine 3: 7.515\n",
        "task 54 on engine 3: 7.515\n",
        "task 55 on engine 3: 7.515\n",
        "task 56 on engine 1: 8.319"
       ]
      },
      {
       "output_type": "stream",
       "stream": "stdout",
       "text": [
        "\n",
        "task 57 on engine 1: 8.319\n",
        "task 58 on engine 1: 8.319\n",
        "task 59 on engine 1: 8.319\n",
        "task 60 on engine 0: 9.122"
       ]
      },
      {
       "output_type": "stream",
       "stream": "stdout",
       "text": [
        "\n",
        "task 61 on engine 0: 9.123\n",
        "task 62 on engine 0: 9.123\n",
        "task 63 on engine 0: 9.123\n",
        "task 64 on engine 2: 9.977"
       ]
      },
      {
       "output_type": "stream",
       "stream": "stdout",
       "text": [
        "\n",
        "task 65 on engine 2: 9.977\n",
        "task 66 on engine 2: 9.977\n",
        "task 67 on engine 2: 9.977\n",
        "task 68 on engine 3: 10.940"
       ]
      },
      {
       "output_type": "stream",
       "stream": "stdout",
       "text": [
        "\n",
        "task 69 on engine 3: 10.940\n",
        "task 70 on engine 3: 10.940\n",
        "task 71 on engine 3: 10.940\n",
        "task 72 on engine 1: 11.902"
       ]
      },
      {
       "output_type": "stream",
       "stream": "stdout",
       "text": [
        "\n",
        "task 73 on engine 1: 11.903\n",
        "task 74 on engine 1: 11.903\n",
        "task 75 on engine 1: 11.903\n",
        "task 76 on engine 0: 12.865"
       ]
      },
      {
       "output_type": "stream",
       "stream": "stdout",
       "text": [
        "\n",
        "task 77 on engine 0: 12.866\n",
        "task 78 on engine 0: 12.866\n",
        "task 79 on engine 0: 12.866\n",
        "task 80 on engine 2: 13.880"
       ]
      },
      {
       "output_type": "stream",
       "stream": "stdout",
       "text": [
        "\n",
        "task 81 on engine 2: 13.881\n",
        "task 82 on engine 2: 13.881\n",
        "task 83 on engine 2: 13.881\n",
        "task 84 on engine 3: 13.881\n",
        "task 85 on engine 3: 13.881\n",
        "task 86 on engine 3: 13.881\n",
        "task 87 on engine 3: 13.881\n",
        "task 88 on engine 1: 13.881\n",
        "task 89 on engine 1: 13.882\n",
        "task 90 on engine 1: 13.882\n",
        "task 91 on engine 1: 13.882\n",
        "task 92 on engine 0: 13.882\n",
        "task 93 on engine 0: 13.882\n",
        "task 94 on engine 0: 13.882\n",
        "task 95 on engine 0: 13.882\n",
        "task 96 on engine 2: 13.883\n",
        "task 97 on engine 2: 13.883\n",
        "task 98 on engine 2: 13.883\n",
        "task 99 on engine 2: 13.883\n"
       ]
      }
     ],
     "prompt_number": 52
    },
    {
     "cell_type": "markdown",
     "metadata": {},
     "source": [
      "# Excercise\n",
      "\n",
      "## Parallelize nested loops\n",
      "\n",
      "Often we want to run a function with a variety of combinations of arguments.\n",
      "A useful skill is the ability to express a nested loop in terms of a map."
     ]
    },
    {
     "cell_type": "code",
     "collapsed": false,
     "input": [
      "def area(w,h):\n",
      "    return w*h\n",
      "\n",
      "\n",
      "widths = range(1,4)\n",
      "heights = range(6,10)\n",
      "\n",
      "areas = []\n",
      "for w in widths:\n",
      "    for h in heights:\n",
      "        areas.append(area(w,h))\n",
      "areas"
     ],
     "language": "python",
     "metadata": {},
     "outputs": [
      {
       "metadata": {},
       "output_type": "pyout",
       "prompt_number": 55,
       "text": [
        "[6, 7, 8, 9, 12, 14, 16, 18, 18, 21, 24, 27]"
       ]
      }
     ],
     "prompt_number": 55
    },
    {
     "cell_type": "markdown",
     "metadata": {},
     "source": [
      "<button onclick=\"$('#hint').toggle();\" label=\"hint\">\n",
      "hint\n",
      "</button>\n",
      "\n",
      "<div id=\"hint\">\n",
      "`itertools.product` and `zip` will be helpful.\n",
      "</div>\n",
      "<script type=\"text/javascript\">\n",
      "    $('#hint').hide();\n",
      "</script>"
     ]
    },
    {
     "cell_type": "code",
     "collapsed": true,
     "input": [
      "%load soln/nestedloop.py"
     ],
     "language": "python",
     "metadata": {},
     "outputs": [],
     "prompt_number": 53
    },
    {
     "cell_type": "code",
     "collapsed": false,
     "input": [
      "# To parallelize every call with map, you just need to get a list for each argument.\n",
      "# You can use `itertools.product` + `zip` to get this:\n",
      "\n",
      "\n",
      "import itertools\n",
      "\n",
      "product = list(itertools.product(widths, heights))\n",
      "# [(1, 6), (1, 7), (2, 6), (2, 7), (3, 6), (3, 7)]\n",
      "\n",
      "# So we have a \"list of pairs\", \n",
      "# but what we really want is a single list for each argument, i.e. a \"pair of lists\".\n",
      "# This is exactly what the slightly weird `zip(*product)` syntax gets us:\n",
      "\n",
      "allwidths, allheights = zip(*itertools.product(widths, heights))\n",
      "\n",
      "print \" widths\", allwidths\n",
      "print \"heights\", allheights\n",
      "\n",
      "# Now we just map our function onto those two lists, to parallelize nested for loops:\n",
      "\n",
      "ar = lview.map_async(area, allwidths, allheights)\n"
     ],
     "language": "python",
     "metadata": {},
     "outputs": [
      {
       "output_type": "stream",
       "stream": "stdout",
       "text": [
        " widths (1, 1, 1, 1, 2, 2, 2, 2, 3, 3, 3, 3)\n",
        "heights (6, 7, 8, 9, 6, 7, 8, 9, 6, 7, 8, 9)\n"
       ]
      }
     ],
     "prompt_number": 56
    },
    {
     "cell_type": "markdown",
     "metadata": {},
     "source": [
      "Validate the result:"
     ]
    },
    {
     "cell_type": "code",
     "collapsed": false,
     "input": [
      "p_areas = ar.get()\n",
      "p_areas"
     ],
     "language": "python",
     "metadata": {},
     "outputs": [
      {
       "metadata": {},
       "output_type": "pyout",
       "prompt_number": 57,
       "text": [
        "[6, 7, 8, 9, 12, 14, 16, 18, 18, 21, 24, 27]"
       ]
      }
     ],
     "prompt_number": 57
    },
    {
     "cell_type": "code",
     "collapsed": false,
     "input": [
      "areas == p_areas"
     ],
     "language": "python",
     "metadata": {},
     "outputs": [
      {
       "metadata": {},
       "output_type": "pyout",
       "prompt_number": 58,
       "text": [
        "True"
       ]
      }
     ],
     "prompt_number": 58
    },
    {
     "cell_type": "code",
     "collapsed": false,
     "input": [],
     "language": "python",
     "metadata": {},
     "outputs": []
    },
    {
     "cell_type": "code",
     "collapsed": false,
     "input": [
      "%matplotlib\n",
      "import matplotlib.pyplot as plt\n",
      "plt.plot([1,3,2])"
     ],
     "language": "python",
     "metadata": {},
     "outputs": [
      {
       "output_type": "stream",
       "stream": "stdout",
       "text": [
        "Using matplotlib backend: MacOSX\n"
       ]
      },
      {
       "metadata": {},
       "output_type": "pyout",
       "prompt_number": 1,
       "text": [
        "[<matplotlib.lines.Line2D at 0x10f12c310>]"
       ]
      }
     ],
     "prompt_number": 1
    },
    {
     "cell_type": "code",
     "collapsed": false,
     "input": [
      "fig = plt.gcf()\n",
      "fig"
     ],
     "language": "python",
     "metadata": {},
     "outputs": [
      {
       "metadata": {
        "png": {
         "height": 544,
         "width": 837
        }
       },
       "output_type": "pyout",
       "png": "[encoded data removed]",
       "prompt_number": 3,
       "text": [
        "<matplotlib.figure.Figure at 0x10dcb97d0>"
       ]
      }
     ],
     "prompt_number": 3
    },
    {
     "cell_type": "code",
     "collapsed": false,
     "input": [
      "fig"
     ],
     "language": "python",
     "metadata": {},
     "outputs": [
      {
       "metadata": {
        "png": {
         "height": 194,
         "width": 361
        }
       },
       "output_type": "pyout",
       "png": "[encoded data removed]",
       "prompt_number": 4,
       "text": [
        "<matplotlib.figure.Figure at 0x10dcb97d0>"
       ]
      }
     ],
     "prompt_number": 4
    },
    {
     "cell_type": "code",
     "collapsed": false,
     "input": [
      "from IPython.display import display"
     ],
     "language": "python",
     "metadata": {},
     "outputs": [],
     "prompt_number": 5
    },
    {
     "cell_type": "code",
     "collapsed": false,
     "input": [
      "display(fig)\n",
      "plt.gca().plot([3,1,2])\n",
      "display(fig)"
     ],
     "language": "python",
     "metadata": {},
     "outputs": [
      {
       "metadata": {
        "png": {
         "height": 194,
         "width": 361
        }
       },
       "output_type": "display_data",
       "png": "[encoded data removed]",
       "text": [
        "<matplotlib.figure.Figure at 0x10dcb97d0>"
       ]
      },
      {
       "metadata": {
        "png": {
         "height": 194,
         "width": 361
        }
       },
       "output_type": "display_data",
       "png": "[encoded data removed]",
       "text": [
        "<matplotlib.figure.Figure at 0x10dcb97d0>"
       ]
      }
     ],
     "prompt_number": 8
    },
    {
     "cell_type": "code",
     "collapsed": false,
     "input": [],
     "language": "python",
     "metadata": {},
     "outputs": []
    }
   ],
   "metadata": {}
  }
 ]
}