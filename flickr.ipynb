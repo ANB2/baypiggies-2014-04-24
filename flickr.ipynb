{
 "metadata": {
  "name": "",
  "signature": "sha256:15036dfcf1b5a7405ac0d2cf721f27974603fbb50df9ebccd2bbb3fea611f25b"
 },
 "nbformat": 3,
 "nbformat_minor": 0,
 "worksheets": [
  {
   "cells": [
    {
     "cell_type": "heading",
     "level": 1,
     "metadata": {},
     "source": [
      "Downloading images from Flickr"
     ]
    },
    {
     "cell_type": "markdown",
     "metadata": {},
     "source": [
      "This notebook defines a few functions to download images with specified tags from flickr, via the flickr API.\n",
      "\n",
      "The results are used inn the [Parallel face detection notebook](Parallel%20face%20detection.ipynb)."
     ]
    },
    {
     "cell_type": "code",
     "collapsed": false,
     "input": [
      "import sys, os\n",
      "\n",
      "# I store my flickr API key in my keyring,\n",
      "# you can just assign it here\n",
      "import keyring\n",
      "api_key = keyring.get_password(\"flickr_api\", \"minrk\")\n",
      "\n",
      "import requests\n",
      "try:\n",
      "    import requests_cache\n",
      "except ImportError:\n",
      "    print(\"no cache\")\n",
      "else:\n",
      "    requests_cache.install_cache(\"flickr\")\n",
      "\n",
      "flickr_url = \"https://api.flickr.com/services/rest/\""
     ],
     "language": "python",
     "metadata": {},
     "outputs": [],
     "prompt_number": 1
    },
    {
     "cell_type": "code",
     "collapsed": false,
     "input": [
      "def flickr_api_request(method, **kwargs):\n",
      "    \"\"\"Make a request of the flickr API\n",
      "    \n",
      "    Returns data after parsing JSON\n",
      "    \"\"\"\n",
      "\n",
      "    params = dict(\n",
      "        api_key=api_key,\n",
      "        method=method,\n",
      "        format='json',\n",
      "        nojsoncallback=1,\n",
      "        safe_search=1,\n",
      "    )\n",
      "    params.update(kwargs)\n",
      "    r = requests.get(flickr_url, params=params)\n",
      "    r.raise_for_status()\n",
      "    return r.json()\n",
      "    \n",
      "def search_flickr(tag, limit=100, size_limit=400):\n",
      "    \"\"\"search flickr for a given tag\n",
      "    \n",
      "    returns a list of `limit` URLs for images\n",
      "    \"\"\"\n",
      "    data = flickr_api_request(\"flickr.photos.search\", tags=tag, per_page=limit)\n",
      "    photos = data['photos']['photo']\n",
      "    urls = []\n",
      "    for photo in photos:\n",
      "        sys.stdout.write('.')\n",
      "        sys.stdout.flush()\n",
      "        url = get_photo_url(photo['id'], size_limit)\n",
      "        if url:\n",
      "            urls.append(url)\n",
      "    \n",
      "    return urls\n",
      "\n",
      "\n",
      "def get_photo_url(photo_id, size_limit=400):\n",
      "    \"\"\"get the url for the smallest version of a given photo id\n",
      "    above a certain minimum size limit\n",
      "    \"\"\"\n",
      "    data = flickr_api_request(\"flickr.photos.getSizes\", photo_id=photo_id)\n",
      "    sizes = data['sizes']['size']\n",
      "    for d in sorted(sizes, key=lambda sz: int(sz['height'])):\n",
      "        w  = int(d['width'])\n",
      "        h = int(d['height'])\n",
      "        if min(w, h) >= size_limit and d['source'] != 'None':\n",
      "            return d['source']\n",
      "\n",
      "    "
     ],
     "language": "python",
     "metadata": {},
     "outputs": [],
     "prompt_number": 17
    },
    {
     "cell_type": "code",
     "collapsed": false,
     "input": [
      "def download_images(tag, n):\n",
      "    \"\"\"download images from flickr to folders based on the tag\"\"\"\n",
      "    if not os.path.exists('images'):\n",
      "        os.mkdir('images')\n",
      "    tagdir = os.path.join('images', tag)\n",
      "    if not os.path.exists(tagdir):\n",
      "        os.mkdir(tagdir)\n",
      "    for url in search_flickr(tag, n):\n",
      "        r = requests.get(url)\n",
      "        fname = url.rsplit('/')[-1]\n",
      "        dest = os.path.join(tagdir, fname)\n",
      "        # print(\"downloading %s => %s\" % (url, dest))\n",
      "        sys.stdout.write('+')\n",
      "        sys.stdout.flush()\n",
      "        with open(dest, 'wb') as f:\n",
      "            f.write(r.content)"
     ],
     "language": "python",
     "metadata": {},
     "outputs": [],
     "prompt_number": 20
    },
    {
     "cell_type": "code",
     "collapsed": false,
     "input": [
      "download_images('portrait', 100)"
     ],
     "language": "python",
     "metadata": {},
     "outputs": []
    },
    {
     "cell_type": "code",
     "collapsed": false,
     "input": [
      "download_images('face', 100)"
     ],
     "language": "python",
     "metadata": {},
     "outputs": []
    },
    {
     "cell_type": "code",
     "collapsed": false,
     "input": [
      "download_images('headshot', 100)"
     ],
     "language": "python",
     "metadata": {},
     "outputs": [
      {
       "output_type": "stream",
       "stream": "stdout",
       "text": [
        "."
       ]
      },
      {
       "output_type": "stream",
       "stream": "stdout",
       "text": [
        "."
       ]
      },
      {
       "output_type": "stream",
       "stream": "stdout",
       "text": [
        "."
       ]
      },
      {
       "output_type": "stream",
       "stream": "stdout",
       "text": [
        "."
       ]
      },
      {
       "output_type": "stream",
       "stream": "stdout",
       "text": [
        "."
       ]
      },
      {
       "output_type": "stream",
       "stream": "stdout",
       "text": [
        "."
       ]
      },
      {
       "output_type": "stream",
       "stream": "stdout",
       "text": [
        "."
       ]
      },
      {
       "output_type": "stream",
       "stream": "stdout",
       "text": [
        "."
       ]
      },
      {
       "output_type": "stream",
       "stream": "stdout",
       "text": [
        "."
       ]
      },
      {
       "output_type": "stream",
       "stream": "stdout",
       "text": [
        "."
       ]
      },
      {
       "output_type": "stream",
       "stream": "stdout",
       "text": [
        "."
       ]
      },
      {
       "output_type": "stream",
       "stream": "stdout",
       "text": [
        "."
       ]
      },
      {
       "output_type": "stream",
       "stream": "stdout",
       "text": [
        "."
       ]
      },
      {
       "output_type": "stream",
       "stream": "stdout",
       "text": [
        "."
       ]
      },
      {
       "output_type": "stream",
       "stream": "stdout",
       "text": [
        "."
       ]
      },
      {
       "output_type": "stream",
       "stream": "stdout",
       "text": [
        "."
       ]
      },
      {
       "output_type": "stream",
       "stream": "stdout",
       "text": [
        "."
       ]
      },
      {
       "output_type": "stream",
       "stream": "stdout",
       "text": [
        "."
       ]
      },
      {
       "output_type": "stream",
       "stream": "stdout",
       "text": [
        "."
       ]
      },
      {
       "output_type": "stream",
       "stream": "stdout",
       "text": [
        "."
       ]
      },
      {
       "output_type": "stream",
       "stream": "stdout",
       "text": [
        "."
       ]
      },
      {
       "output_type": "stream",
       "stream": "stdout",
       "text": [
        "."
       ]
      },
      {
       "output_type": "stream",
       "stream": "stdout",
       "text": [
        "."
       ]
      },
      {
       "output_type": "stream",
       "stream": "stdout",
       "text": [
        "."
       ]
      },
      {
       "output_type": "stream",
       "stream": "stdout",
       "text": [
        "."
       ]
      },
      {
       "output_type": "stream",
       "stream": "stdout",
       "text": [
        "."
       ]
      },
      {
       "output_type": "stream",
       "stream": "stdout",
       "text": [
        "."
       ]
      },
      {
       "output_type": "stream",
       "stream": "stdout",
       "text": [
        "."
       ]
      },
      {
       "output_type": "stream",
       "stream": "stdout",
       "text": [
        "."
       ]
      },
      {
       "output_type": "stream",
       "stream": "stdout",
       "text": [
        "."
       ]
      },
      {
       "output_type": "stream",
       "stream": "stdout",
       "text": [
        "."
       ]
      },
      {
       "output_type": "stream",
       "stream": "stdout",
       "text": [
        "."
       ]
      },
      {
       "output_type": "stream",
       "stream": "stdout",
       "text": [
        "."
       ]
      },
      {
       "output_type": "stream",
       "stream": "stdout",
       "text": [
        "."
       ]
      },
      {
       "output_type": "stream",
       "stream": "stdout",
       "text": [
        "."
       ]
      },
      {
       "output_type": "stream",
       "stream": "stdout",
       "text": [
        "."
       ]
      },
      {
       "output_type": "stream",
       "stream": "stdout",
       "text": [
        "."
       ]
      },
      {
       "output_type": "stream",
       "stream": "stdout",
       "text": [
        "."
       ]
      },
      {
       "output_type": "stream",
       "stream": "stdout",
       "text": [
        "."
       ]
      },
      {
       "output_type": "stream",
       "stream": "stdout",
       "text": [
        "."
       ]
      },
      {
       "output_type": "stream",
       "stream": "stdout",
       "text": [
        "."
       ]
      },
      {
       "output_type": "stream",
       "stream": "stdout",
       "text": [
        "."
       ]
      },
      {
       "output_type": "stream",
       "stream": "stdout",
       "text": [
        "."
       ]
      },
      {
       "output_type": "stream",
       "stream": "stdout",
       "text": [
        "."
       ]
      },
      {
       "output_type": "stream",
       "stream": "stdout",
       "text": [
        "."
       ]
      },
      {
       "output_type": "stream",
       "stream": "stdout",
       "text": [
        "."
       ]
      },
      {
       "output_type": "stream",
       "stream": "stdout",
       "text": [
        "."
       ]
      },
      {
       "output_type": "stream",
       "stream": "stdout",
       "text": [
        "."
       ]
      },
      {
       "output_type": "stream",
       "stream": "stdout",
       "text": [
        "."
       ]
      },
      {
       "output_type": "stream",
       "stream": "stdout",
       "text": [
        "."
       ]
      },
      {
       "output_type": "stream",
       "stream": "stdout",
       "text": [
        "."
       ]
      },
      {
       "output_type": "stream",
       "stream": "stdout",
       "text": [
        "."
       ]
      },
      {
       "output_type": "stream",
       "stream": "stdout",
       "text": [
        "."
       ]
      },
      {
       "output_type": "stream",
       "stream": "stdout",
       "text": [
        "."
       ]
      },
      {
       "output_type": "stream",
       "stream": "stdout",
       "text": [
        "."
       ]
      },
      {
       "output_type": "stream",
       "stream": "stdout",
       "text": [
        "."
       ]
      },
      {
       "output_type": "stream",
       "stream": "stdout",
       "text": [
        "."
       ]
      },
      {
       "output_type": "stream",
       "stream": "stdout",
       "text": [
        "."
       ]
      },
      {
       "output_type": "stream",
       "stream": "stdout",
       "text": [
        "."
       ]
      },
      {
       "output_type": "stream",
       "stream": "stdout",
       "text": [
        "."
       ]
      },
      {
       "output_type": "stream",
       "stream": "stdout",
       "text": [
        "."
       ]
      },
      {
       "output_type": "stream",
       "stream": "stdout",
       "text": [
        "."
       ]
      },
      {
       "output_type": "stream",
       "stream": "stdout",
       "text": [
        "."
       ]
      },
      {
       "output_type": "stream",
       "stream": "stdout",
       "text": [
        "."
       ]
      },
      {
       "output_type": "stream",
       "stream": "stdout",
       "text": [
        "."
       ]
      },
      {
       "output_type": "stream",
       "stream": "stdout",
       "text": [
        "."
       ]
      },
      {
       "output_type": "stream",
       "stream": "stdout",
       "text": [
        "."
       ]
      },
      {
       "output_type": "stream",
       "stream": "stdout",
       "text": [
        "."
       ]
      },
      {
       "output_type": "stream",
       "stream": "stdout",
       "text": [
        "."
       ]
      },
      {
       "output_type": "stream",
       "stream": "stdout",
       "text": [
        "."
       ]
      },
      {
       "output_type": "stream",
       "stream": "stdout",
       "text": [
        "."
       ]
      },
      {
       "output_type": "stream",
       "stream": "stdout",
       "text": [
        "."
       ]
      },
      {
       "output_type": "stream",
       "stream": "stdout",
       "text": [
        "."
       ]
      },
      {
       "output_type": "stream",
       "stream": "stdout",
       "text": [
        "."
       ]
      },
      {
       "output_type": "stream",
       "stream": "stdout",
       "text": [
        "."
       ]
      },
      {
       "output_type": "stream",
       "stream": "stdout",
       "text": [
        "."
       ]
      },
      {
       "output_type": "stream",
       "stream": "stdout",
       "text": [
        "."
       ]
      },
      {
       "output_type": "stream",
       "stream": "stdout",
       "text": [
        "."
       ]
      },
      {
       "output_type": "stream",
       "stream": "stdout",
       "text": [
        "."
       ]
      },
      {
       "output_type": "stream",
       "stream": "stdout",
       "text": [
        "."
       ]
      },
      {
       "output_type": "stream",
       "stream": "stdout",
       "text": [
        "."
       ]
      },
      {
       "output_type": "stream",
       "stream": "stdout",
       "text": [
        "."
       ]
      },
      {
       "output_type": "stream",
       "stream": "stdout",
       "text": [
        "."
       ]
      },
      {
       "output_type": "stream",
       "stream": "stdout",
       "text": [
        "."
       ]
      },
      {
       "output_type": "stream",
       "stream": "stdout",
       "text": [
        "."
       ]
      },
      {
       "output_type": "stream",
       "stream": "stdout",
       "text": [
        "."
       ]
      },
      {
       "output_type": "stream",
       "stream": "stdout",
       "text": [
        "."
       ]
      },
      {
       "output_type": "stream",
       "stream": "stdout",
       "text": [
        "."
       ]
      },
      {
       "output_type": "stream",
       "stream": "stdout",
       "text": [
        "."
       ]
      },
      {
       "output_type": "stream",
       "stream": "stdout",
       "text": [
        "."
       ]
      },
      {
       "output_type": "stream",
       "stream": "stdout",
       "text": [
        "."
       ]
      },
      {
       "output_type": "stream",
       "stream": "stdout",
       "text": [
        "."
       ]
      },
      {
       "output_type": "stream",
       "stream": "stdout",
       "text": [
        "."
       ]
      },
      {
       "output_type": "stream",
       "stream": "stdout",
       "text": [
        "."
       ]
      },
      {
       "output_type": "stream",
       "stream": "stdout",
       "text": [
        "."
       ]
      },
      {
       "output_type": "stream",
       "stream": "stdout",
       "text": [
        "."
       ]
      },
      {
       "output_type": "stream",
       "stream": "stdout",
       "text": [
        "."
       ]
      },
      {
       "output_type": "stream",
       "stream": "stdout",
       "text": [
        "."
       ]
      },
      {
       "output_type": "stream",
       "stream": "stdout",
       "text": [
        "."
       ]
      },
      {
       "output_type": "stream",
       "stream": "stdout",
       "text": [
        "."
       ]
      },
      {
       "output_type": "stream",
       "stream": "stdout",
       "text": [
        "+"
       ]
      },
      {
       "output_type": "stream",
       "stream": "stdout",
       "text": [
        "+"
       ]
      },
      {
       "output_type": "stream",
       "stream": "stdout",
       "text": [
        "+"
       ]
      },
      {
       "output_type": "stream",
       "stream": "stdout",
       "text": [
        "+"
       ]
      },
      {
       "output_type": "stream",
       "stream": "stdout",
       "text": [
        "+"
       ]
      },
      {
       "output_type": "stream",
       "stream": "stdout",
       "text": [
        "+"
       ]
      },
      {
       "output_type": "stream",
       "stream": "stdout",
       "text": [
        "+"
       ]
      },
      {
       "output_type": "stream",
       "stream": "stdout",
       "text": [
        "+"
       ]
      },
      {
       "output_type": "stream",
       "stream": "stdout",
       "text": [
        "+"
       ]
      },
      {
       "output_type": "stream",
       "stream": "stdout",
       "text": [
        "+"
       ]
      },
      {
       "output_type": "stream",
       "stream": "stdout",
       "text": [
        "+"
       ]
      },
      {
       "output_type": "stream",
       "stream": "stdout",
       "text": [
        "+"
       ]
      },
      {
       "output_type": "stream",
       "stream": "stdout",
       "text": [
        "+"
       ]
      },
      {
       "output_type": "stream",
       "stream": "stdout",
       "text": [
        "+"
       ]
      },
      {
       "output_type": "stream",
       "stream": "stdout",
       "text": [
        "+"
       ]
      },
      {
       "output_type": "stream",
       "stream": "stdout",
       "text": [
        "+"
       ]
      },
      {
       "output_type": "stream",
       "stream": "stdout",
       "text": [
        "+"
       ]
      },
      {
       "output_type": "stream",
       "stream": "stdout",
       "text": [
        "+"
       ]
      },
      {
       "output_type": "stream",
       "stream": "stdout",
       "text": [
        "+"
       ]
      },
      {
       "output_type": "stream",
       "stream": "stdout",
       "text": [
        "+"
       ]
      },
      {
       "output_type": "stream",
       "stream": "stdout",
       "text": [
        "+"
       ]
      },
      {
       "output_type": "stream",
       "stream": "stdout",
       "text": [
        "+"
       ]
      },
      {
       "output_type": "stream",
       "stream": "stdout",
       "text": [
        "+"
       ]
      },
      {
       "output_type": "stream",
       "stream": "stdout",
       "text": [
        "+"
       ]
      },
      {
       "output_type": "stream",
       "stream": "stdout",
       "text": [
        "+"
       ]
      },
      {
       "output_type": "stream",
       "stream": "stdout",
       "text": [
        "+"
       ]
      },
      {
       "output_type": "stream",
       "stream": "stdout",
       "text": [
        "+"
       ]
      },
      {
       "output_type": "stream",
       "stream": "stdout",
       "text": [
        "+"
       ]
      },
      {
       "output_type": "stream",
       "stream": "stdout",
       "text": [
        "+"
       ]
      },
      {
       "output_type": "stream",
       "stream": "stdout",
       "text": [
        "+"
       ]
      },
      {
       "output_type": "stream",
       "stream": "stdout",
       "text": [
        "+"
       ]
      },
      {
       "output_type": "stream",
       "stream": "stdout",
       "text": [
        "+"
       ]
      },
      {
       "output_type": "stream",
       "stream": "stdout",
       "text": [
        "+"
       ]
      },
      {
       "output_type": "stream",
       "stream": "stdout",
       "text": [
        "+"
       ]
      },
      {
       "output_type": "stream",
       "stream": "stdout",
       "text": [
        "+"
       ]
      },
      {
       "output_type": "stream",
       "stream": "stdout",
       "text": [
        "+"
       ]
      },
      {
       "output_type": "stream",
       "stream": "stdout",
       "text": [
        "+"
       ]
      },
      {
       "output_type": "stream",
       "stream": "stdout",
       "text": [
        "+"
       ]
      },
      {
       "output_type": "stream",
       "stream": "stdout",
       "text": [
        "+"
       ]
      },
      {
       "output_type": "stream",
       "stream": "stdout",
       "text": [
        "+"
       ]
      },
      {
       "output_type": "stream",
       "stream": "stdout",
       "text": [
        "+"
       ]
      },
      {
       "output_type": "stream",
       "stream": "stdout",
       "text": [
        "+"
       ]
      },
      {
       "output_type": "stream",
       "stream": "stdout",
       "text": [
        "+"
       ]
      },
      {
       "output_type": "stream",
       "stream": "stdout",
       "text": [
        "+"
       ]
      },
      {
       "output_type": "stream",
       "stream": "stdout",
       "text": [
        "+"
       ]
      },
      {
       "output_type": "stream",
       "stream": "stdout",
       "text": [
        "+"
       ]
      },
      {
       "output_type": "stream",
       "stream": "stdout",
       "text": [
        "+"
       ]
      },
      {
       "output_type": "stream",
       "stream": "stdout",
       "text": [
        "+"
       ]
      },
      {
       "output_type": "stream",
       "stream": "stdout",
       "text": [
        "+"
       ]
      },
      {
       "output_type": "stream",
       "stream": "stdout",
       "text": [
        "+"
       ]
      },
      {
       "output_type": "stream",
       "stream": "stdout",
       "text": [
        "+"
       ]
      },
      {
       "output_type": "stream",
       "stream": "stdout",
       "text": [
        "+"
       ]
      },
      {
       "output_type": "stream",
       "stream": "stdout",
       "text": [
        "+"
       ]
      },
      {
       "output_type": "stream",
       "stream": "stdout",
       "text": [
        "+"
       ]
      },
      {
       "output_type": "stream",
       "stream": "stdout",
       "text": [
        "+"
       ]
      },
      {
       "output_type": "stream",
       "stream": "stdout",
       "text": [
        "+"
       ]
      },
      {
       "output_type": "stream",
       "stream": "stdout",
       "text": [
        "+"
       ]
      },
      {
       "output_type": "stream",
       "stream": "stdout",
       "text": [
        "+"
       ]
      },
      {
       "output_type": "stream",
       "stream": "stdout",
       "text": [
        "+"
       ]
      },
      {
       "output_type": "stream",
       "stream": "stdout",
       "text": [
        "+"
       ]
      },
      {
       "output_type": "stream",
       "stream": "stdout",
       "text": [
        "+"
       ]
      },
      {
       "output_type": "stream",
       "stream": "stdout",
       "text": [
        "+"
       ]
      },
      {
       "output_type": "stream",
       "stream": "stdout",
       "text": [
        "+"
       ]
      },
      {
       "output_type": "stream",
       "stream": "stdout",
       "text": [
        "+"
       ]
      },
      {
       "output_type": "stream",
       "stream": "stdout",
       "text": [
        "+"
       ]
      },
      {
       "output_type": "stream",
       "stream": "stdout",
       "text": [
        "+"
       ]
      },
      {
       "output_type": "stream",
       "stream": "stdout",
       "text": [
        "+"
       ]
      },
      {
       "output_type": "stream",
       "stream": "stdout",
       "text": [
        "+"
       ]
      },
      {
       "output_type": "stream",
       "stream": "stdout",
       "text": [
        "+"
       ]
      },
      {
       "output_type": "stream",
       "stream": "stdout",
       "text": [
        "+"
       ]
      },
      {
       "output_type": "stream",
       "stream": "stdout",
       "text": [
        "+"
       ]
      },
      {
       "output_type": "stream",
       "stream": "stdout",
       "text": [
        "+"
       ]
      },
      {
       "output_type": "stream",
       "stream": "stdout",
       "text": [
        "+"
       ]
      },
      {
       "output_type": "stream",
       "stream": "stdout",
       "text": [
        "+"
       ]
      },
      {
       "output_type": "stream",
       "stream": "stdout",
       "text": [
        "+"
       ]
      },
      {
       "output_type": "stream",
       "stream": "stdout",
       "text": [
        "+"
       ]
      },
      {
       "output_type": "stream",
       "stream": "stdout",
       "text": [
        "+"
       ]
      },
      {
       "output_type": "stream",
       "stream": "stdout",
       "text": [
        "+"
       ]
      },
      {
       "output_type": "stream",
       "stream": "stdout",
       "text": [
        "+"
       ]
      },
      {
       "output_type": "stream",
       "stream": "stdout",
       "text": [
        "+"
       ]
      },
      {
       "output_type": "stream",
       "stream": "stdout",
       "text": [
        "+"
       ]
      },
      {
       "output_type": "stream",
       "stream": "stdout",
       "text": [
        "+"
       ]
      },
      {
       "output_type": "stream",
       "stream": "stdout",
       "text": [
        "+"
       ]
      },
      {
       "output_type": "stream",
       "stream": "stdout",
       "text": [
        "+"
       ]
      },
      {
       "output_type": "stream",
       "stream": "stdout",
       "text": [
        "+"
       ]
      },
      {
       "output_type": "stream",
       "stream": "stdout",
       "text": [
        "+"
       ]
      },
      {
       "output_type": "stream",
       "stream": "stdout",
       "text": [
        "+"
       ]
      },
      {
       "output_type": "stream",
       "stream": "stdout",
       "text": [
        "+"
       ]
      },
      {
       "output_type": "stream",
       "stream": "stdout",
       "text": [
        "+"
       ]
      },
      {
       "output_type": "stream",
       "stream": "stdout",
       "text": [
        "+"
       ]
      },
      {
       "output_type": "stream",
       "stream": "stdout",
       "text": [
        "+"
       ]
      },
      {
       "output_type": "stream",
       "stream": "stdout",
       "text": [
        "+"
       ]
      },
      {
       "output_type": "stream",
       "stream": "stdout",
       "text": [
        "+"
       ]
      },
      {
       "output_type": "stream",
       "stream": "stdout",
       "text": [
        "+"
       ]
      },
      {
       "output_type": "stream",
       "stream": "stdout",
       "text": [
        "+"
       ]
      },
      {
       "output_type": "stream",
       "stream": "stdout",
       "text": [
        "+"
       ]
      },
      {
       "output_type": "stream",
       "stream": "stdout",
       "text": [
        "+"
       ]
      },
      {
       "output_type": "stream",
       "stream": "stdout",
       "text": [
        "+"
       ]
      },
      {
       "output_type": "stream",
       "stream": "stdout",
       "text": [
        "+"
       ]
      }
     ],
     "prompt_number": 21
    }
   ],
   "metadata": {}
  }
 ]
}